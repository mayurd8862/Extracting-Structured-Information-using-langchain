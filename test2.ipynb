{
 "cells": [
  {
   "cell_type": "code",
   "execution_count": 5,
   "metadata": {},
   "outputs": [
    {
     "name": "stderr",
     "output_type": "stream",
     "text": [
      "c:\\Users\\mayur\\Desktop\\Project\\DeepStack Assignment\\Extracting Structured Information using Langchain\\venv\\Lib\\site-packages\\tqdm\\auto.py:21: TqdmWarning: IProgress not found. Please update jupyter and ipywidgets. See https://ipywidgets.readthedocs.io/en/stable/user_install.html\n",
      "  from .autonotebook import tqdm as notebook_tqdm\n"
     ]
    }
   ],
   "source": [
    "import os\n",
    "import chromadb\n",
    "from langchain.document_loaders import TextLoader\n",
    "from langchain.text_splitter import RecursiveCharacterTextSplitter\n",
    "from chromadb.config import Settings\n",
    "from typing import List, Dict, Any\n",
    "# Use Sentence Transformers for free embeddings\n",
    "from sentence_transformers import SentenceTransformer\n",
    "\n"
   ]
  },
  {
   "cell_type": "code",
   "execution_count": 6,
   "metadata": {},
   "outputs": [],
   "source": [
    "def load_stories(directory):\n",
    "    \"\"\"\n",
    "    function to read stories from text files.\n",
    "    \"\"\"\n",
    "    stories = []\n",
    "    for filename in os.listdir(directory):\n",
    "        if filename.endswith('.txt'):\n",
    "            filepath = os.path.join(directory, filename)\n",
    "            loader = TextLoader(filepath, encoding='utf-8')\n",
    "            documents = loader.load()\n",
    "            \n",
    "            # Extract story title from filename (remove .txt)\n",
    "            story_title = os.path.splitext(filename)[0]\n",
    "            \n",
    "            # Combine document contents\n",
    "            full_text = \" \".join([doc.page_content for doc in documents])\n",
    "            \n",
    "            stories.append({\n",
    "                story_title : full_text\n",
    "            })\n",
    "    \n",
    "    return stories"
   ]
  },
  {
   "cell_type": "code",
   "execution_count": 7,
   "metadata": {},
   "outputs": [
    {
     "data": {
      "text/plain": [
       "[{'a-mother': 'A Mother\\n\\nMr Holohan, assistant secretary of the Eire Abu Society, had been walking up and down Dublin for nearly a month, with his hands and pockets full of dirty pieces of paper, arranging about the series of concerts. He had a game leg and for this his friends called him Hoppy Holohan. He walked up and down constantly, stood by the hour at street corners arguing the point and made notes; but in the end it was Mrs Kearney who arranged everything.\\n\\nMiss Devlin had become Mrs Kearney out of spite. She had been educated in a high-class convent, where she had learned French and music. As she was naturally pale and unbending in manner she made few friends at school. When she came to the age of marriage she was sent out to many houses where her playing and ivory manners were much admired. She sat amid the chilly circle of her accomplishments, waiting for some suitor to brave it and offer her a brilliant life. But the young men whom she met were ordinary and she gave them no encouragement, trying to console her romantic desires by eating a great deal of Turkish Delight in secret. However, when she drew near the limit and her friends began to loosen their tongues about her, she silenced them by marrying Mr Kearney, who was a bootmaker on Ormond Quay.\\n\\nHe was much older than she. His conversation, which was serious, took place at intervals in his great brown beard. After the first year of married life, Mrs Kearney perceived that such a man would wear better than a romantic person, but she never put her own romantic ideas away. He was sober, thrifty and pious; he went to the altar every first Friday, sometimes with her, oftener by himself. But she never weakened in her religion and was a good wife to him. At some party in a strange house when she lifted her eyebrow ever so slightly he stood up to take his leave and, when his cough troubled him, she put the eider-down quilt over his feet and made a strong rum punch. For his part, he was a model father. By paying a small sum every week into a society, he ensured for both his daughters a dowry of one hundred pounds each when they came to the age of twenty-four. He sent the elder daughter, Kathleen, to a good convent, where she learned French and music, and afterward paid her fees at the Academy. Every year in the month of July Mrs Kearney found occasion to say to some friend:\\n\\n“My good man is packing us off to Skerries for a few weeks.”\\n\\nIf it was not Skerries it was Howth or Greystones.\\n\\nWhen the Irish Revival began to be appreciable Mrs Kearney determined to take advantage of her daughter’s name and brought an Irish teacher to the house. Kathleen and her sister sent Irish picture postcards to their friends and these friends sent back other Irish picture postcards. On special Sundays, when Mr Kearney went with his family to the pro-cathedral, a little crowd of people would assemble after mass at the corner of Cathedral Street. They were all friends of the Kearneys—musical friends or Nationalist friends; and, when they had played every little counter of gossip, they shook hands with one another all together, laughing at the crossing of so many hands, and said good-bye to one another in Irish. Soon the name of Miss Kathleen Kearney began to be heard often on people’s lips. People said that she was very clever at music and a very nice girl and, moreover, that she was a believer in the language movement. Mrs Kearney was well content at this. Therefore she was not surprised when one day Mr Holohan came to her and proposed that her daughter should be the accompanist at a series of four grand concerts which his Society was going to give in the Antient Concert Rooms. She brought him into the drawing-room, made him sit down and brought out the decanter and the silver biscuit-barrel. She entered heart and soul into the details of the enterprise, advised and dissuaded; and finally a contract was drawn up by which Kathleen was to receive eight guineas for her services as accompanist at the four grand concerts.\\n\\nAs Mr Holohan was a novice in such delicate matters as the wording of bills and the disposing of items for a programme, Mrs Kearney helped him. She had tact. She knew what artistes should go into capitals and what artistes should go into small type. She knew that the first tenor would not like to come on after Mr Meade’s comic turn. To keep the audience continually diverted she slipped the doubtful items in between the old favourites. Mr Holohan called to see her every day to have her advice on some point. She was invariably friendly and advising—homely, in fact. She pushed the decanter towards him, saying:\\n\\n“Now, help yourself, Mr Holohan!”\\n\\nAnd while he was helping himself she said:\\n\\n“Don’t be afraid! Don’t be afraid of it!”\\n\\nEverything went on smoothly. Mrs Kearney bought some lovely blush-pink charmeuse in Brown Thomas’s to let into the front of Kathleen’s dress. It cost a pretty penny; but there are occasions when a little expense is justifiable. She took a dozen of two-shilling tickets for the final concert and sent them to those friends who could not be trusted to come otherwise. She forgot nothing and, thanks to her, everything that was to be done was done.\\n\\nThe concerts were to be on Wednesday, Thursday, Friday and Saturday. When Mrs Kearney arrived with her daughter at the Antient Concert Rooms on Wednesday night she did not like the look of things. A few young men, wearing bright blue badges in their coats, stood idle in the vestibule; none of them wore evening dress. She passed by with her daughter and a quick glance through the open door of the hall showed her the cause of the stewards’ idleness. At first she wondered had she mistaken the hour. No, it was twenty minutes to eight.\\n\\nIn the dressing-room behind the stage she was introduced to the secretary of the Society, Mr Fitzpatrick. She smiled and shook his hand. He was a little man, with a white vacant face. She noticed that he wore his soft brown hat carelessly on the side of his head and that his accent was flat. He held a programme in his hand and, while he was talking to her, he chewed one end of it into a moist pulp. He seemed to bear disappointments lightly. Mr Holohan came into the dressing-room every few minutes with reports from the box-office. The artistes talked among themselves nervously, glanced from time to time at the mirror and rolled and unrolled their music. When it was nearly half-past eight, the few people in the hall began to express their desire to be entertained. Mr Fitzpatrick came in, smiled vacantly at the room, and said:\\n\\n“Well now, ladies and gentlemen. I suppose we’d better open the ball.”\\n\\nMrs Kearney rewarded his very flat final syllable with a quick stare of contempt, and then said to her daughter encouragingly:\\n\\n“Are you ready, dear?”\\n\\nWhen she had an opportunity, she called Mr Holohan aside and asked him to tell her what it meant. Mr Holohan did not know what it meant. He said that the Committee had made a mistake in arranging for four concerts: four was too many.\\n\\n“And the artistes!” said Mrs Kearney. “Of course they are doing their best, but really they are not good.”\\n\\nMr Holohan admitted that the artistes were no good but the Committee, he said, had decided to let the first three concerts go as they pleased and reserve all the talent for Saturday night. Mrs Kearney said nothing, but, as the mediocre items followed one another on the platform and the few people in the hall grew fewer and fewer, she began to regret that she had put herself to any expense for such a concert. There was something she didn’t like in the look of things and Mr Fitzpatrick’s vacant smile irritated her very much. However, she said nothing and waited to see how it would end. The concert expired shortly before ten, and everyone went home quickly.\\n\\nThe concert on Thursday night was better attended, but Mrs Kearney saw at once that the house was filled with paper. The audience behaved indecorously, as if the concert were an informal dress rehearsal. Mr Fitzpatrick seemed to enjoy himself; he was quite unconscious that Mrs Kearney was taking angry note of his conduct. He stood at the edge of the screen, from time to time jutting out his head and exchanging a laugh with two friends in the corner of the balcony. In the course of the evening, Mrs Kearney learned that the Friday concert was to be abandoned and that the Committee was going to move heaven and earth to secure a bumper house on Saturday night. When she heard this, she sought out Mr Holohan. She buttonholed him as he was limping out quickly with a glass of lemonade for a young lady and asked him was it true. Yes, it was true.\\n\\n“But, of course, that doesn’t alter the contract,” she said. “The contract was for four concerts.”\\n\\nMr Holohan seemed to be in a hurry; he advised her to speak to Mr Fitzpatrick. Mrs Kearney was now beginning to be alarmed. She called Mr Fitzpatrick away from his screen and told him that her daughter had signed for four concerts and that, of course, according to the terms of the contract, she should receive the sum originally stipulated for, whether the society gave the four concerts or not. Mr Fitzpatrick, who did not catch the point at issue very quickly, seemed unable to resolve the difficulty and said that he would bring the matter before the Committee. Mrs Kearney’s anger began to flutter in her cheek and she had all she could do to keep from asking:\\n\\n“And who is the Cometty pray?”\\n\\nBut she knew that it would not be ladylike to do that: so she was silent.\\n\\nLittle boys were sent out into the principal streets of Dublin early on Friday morning with bundles of handbills. Special puffs appeared in all the evening papers, reminding the music-loving public of the treat which was in store for it on the following evening. Mrs Kearney was somewhat reassured, but she thought well to tell her husband part of her suspicions. He listened carefully and said that perhaps it would be better if he went with her on Saturday night. She agreed. She respected her husband in the same way as she respected the General Post Office, as something large, secure and fixed; and though she knew the small number of his talents she appreciated his abstract value as a male. She was glad that he had suggested coming with her. She thought her plans over.\\n\\nThe night of the grand concert came. Mrs Kearney, with her husband and daughter, arrived at the Antient Concert Rooms three-quarters of an hour before the time at which the concert was to begin. By ill luck it was a rainy evening. Mrs Kearney placed her daughter’s clothes and music in charge of her husband and went all over the building looking for Mr Holohan or Mr Fitzpatrick. She could find neither. She asked the stewards was any member of the Committee in the hall and, after a great deal of trouble, a steward brought out a little woman named Miss Beirne to whom Mrs Kearney explained that she wanted to see one of the secretaries. Miss Beirne expected them any minute and asked could she do anything. Mrs Kearney looked searchingly at the oldish face which was screwed into an expression of trustfulness and enthusiasm and answered:\\n\\n“No, thank you!”\\n\\nThe little woman hoped they would have a good house. She looked out at the rain until the melancholy of the wet street effaced all the trustfulness and enthusiasm from her twisted features. Then she gave a little sigh and said:\\n\\n“Ah, well! We did our best, the dear knows.”\\n\\nMrs Kearney had to go back to the dressing-room.\\n\\nThe artistes were arriving. The bass and the second tenor had already come. The bass, Mr Duggan, was a slender young man with a scattered black moustache. He was the son of a hall porter in an office in the city and, as a boy, he had sung prolonged bass notes in the resounding hall. From this humble state he had raised himself until he had become a first-rate artiste. He had appeared in grand opera. One night, when an operatic artiste had fallen ill, he had undertaken the part of the king in the opera of Maritana at the Queen’s Theatre. He sang his music with great feeling and volume and was warmly welcomed by the gallery; but, unfortunately, he marred the good impression by wiping his nose in his gloved hand once or twice out of thoughtlessness. He was unassuming and spoke little. He said yous so softly that it passed unnoticed and he never drank anything stronger than milk for his voice’s sake. Mr Bell, the second tenor, was a fair-haired little man who competed every year for prizes at the Feis Ceoil. On his fourth trial he had been awarded a bronze medal. He was extremely nervous and extremely jealous of other tenors and he covered his nervous jealousy with an ebullient friendliness. It was his humour to have people know what an ordeal a concert was to him. Therefore when he saw Mr Duggan he went over to him and asked:\\n\\n“Are you in it too?”\\n\\n“Yes,” said Mr Duggan.\\n\\nMr Bell laughed at his fellow-sufferer, held out his hand and said:\\n\\n“Shake!”\\n\\nMrs Kearney passed by these two young men and went to the edge of the screen to view the house. The seats were being filled up rapidly and a pleasant noise circulated in the auditorium. She came back and spoke to her husband privately. Their conversation was evidently about Kathleen for they both glanced at her often as she stood chatting to one of her Nationalist friends, Miss Healy, the contralto. An unknown solitary woman with a pale face walked through the room. The women followed with keen eyes the faded blue dress which was stretched upon a meagre body. Someone said that she was Madam Glynn, the soprano.\\n\\n“I wonder where did they dig her up,” said Kathleen to Miss Healy. “I’m sure I never heard of her.”\\n\\nMiss Healy had to smile. Mr Holohan limped into the dressing-room at that moment and the two young ladies asked him who was the unknown woman. Mr Holohan said that she was Madam Glynn from London. Madam Glynn took her stand in a corner of the room, holding a roll of music stiffly before her and from time to time changing the direction of her startled gaze. The shadow took her faded dress into shelter but fell revengefully into the little cup behind her collar-bone. The noise of the hall became more audible. The first tenor and the baritone arrived together. They were both well dressed, stout and complacent and they brought a breath of opulence among the company.\\n\\nMrs Kearney brought her daughter over to them, and talked to them amiably. She wanted to be on good terms with them but, while she strove to be polite, her eyes followed Mr Holohan in his limping and devious courses. As soon as she could she excused herself and went out after him.\\n\\n“Mr Holohan, I want to speak to you for a moment,” she said.\\n\\nThey went down to a discreet part of the corridor. Mrs Kearney asked him when was her daughter going to be paid. Mr Holohan said that Mr Fitzpatrick had charge of that. Mrs Kearney said that she didn’t know anything about Mr Fitzpatrick. Her daughter had signed a contract for eight guineas and she would have to be paid. Mr Holohan said that it wasn’t his business.\\n\\n“Why isn’t it your business?” asked Mrs Kearney. “Didn’t you yourself bring her the contract? Anyway, if it’s not your business it’s my business and I mean to see to it.”\\n\\n“You’d better speak to Mr Fitzpatrick,” said Mr Holohan distantly.\\n\\n“I don’t know anything about Mr Fitzpatrick,” repeated Mrs Kearney. “I have my contract, and I intend to see that it is carried out.”\\n\\nWhen she came back to the dressing-room her cheeks were slightly suffused. The room was lively. Two men in outdoor dress had taken possession of the fireplace and were chatting familiarly with Miss Healy and the baritone. They were the Freeman man and Mr O’Madden Burke. The Freeman man had come in to say that he could not wait for the concert as he had to report the lecture which an American priest was giving in the Mansion House. He said they were to leave the report for him at the Freeman office and he would see that it went in. He was a grey-haired man, with a plausible voice and careful manners. He held an extinguished cigar in his hand and the aroma of cigar smoke floated near him. He had not intended to stay a moment because concerts and artistes bored him considerably but he remained leaning against the mantelpiece. Miss Healy stood in front of him, talking and laughing. He was old enough to suspect one reason for her politeness but young enough in spirit to turn the moment to account. The warmth, fragrance and colour of her body appealed to his senses. He was pleasantly conscious that the bosom which he saw rise and fall slowly beneath him rose and fell at that moment for him, that the laughter and fragrance and wilful glances were his tribute. When he could stay no longer he took leave of her regretfully.\\n\\n“O’Madden Burke will write the notice,” he explained to Mr Holohan, “and I’ll see it in.”\\n\\n“Thank you very much, Mr Hendrick,” said Mr Holohan, “you’ll see it in, I know. Now, won’t you have a little something before you go?”\\n\\n“I don’t mind,” said Mr Hendrick.\\n\\nThe two men went along some tortuous passages and up a dark staircase and came to a secluded room where one of the stewards was uncorking bottles for a few gentlemen. One of these gentlemen was Mr O’Madden Burke, who had found out the room by instinct. He was a suave, elderly man who balanced his imposing body, when at rest, upon a large silk umbrella. His magniloquent western name was the moral umbrella upon which he balanced the fine problem of his finances. He was widely respected.\\n\\nWhile Mr Holohan was entertaining the Freeman man Mrs Kearney was speaking so animatedly to her husband that he had to ask her to lower her voice. The conversation of the others in the dressing-room had become strained. Mr Bell, the first item, stood ready with his music but the accompanist made no sign. Evidently something was wrong. Mr Kearney looked straight before him, stroking his beard, while Mrs Kearney spoke into Kathleen’s ear with subdued emphasis. From the hall came sounds of encouragement, clapping and stamping of feet. The first tenor and the baritone and Miss Healy stood together, waiting tranquilly, but Mr Bell’s nerves were greatly agitated because he was afraid the audience would think that he had come late.\\n\\nMr Holohan and Mr O’Madden Burke came into the room. In a moment Mr Holohan perceived the hush. He went over to Mrs Kearney and spoke with her earnestly. While they were speaking the noise in the hall grew louder. Mr Holohan became very red and excited. He spoke volubly, but Mrs Kearney said curtly at intervals:\\n\\n“She won’t go on. She must get her eight guineas.”\\n\\nMr Holohan pointed desperately towards the hall where the audience was clapping and stamping. He appealed to Mr Kearney and to Kathleen. But Mr Kearney continued to stroke his beard and Kathleen looked down, moving the point of her new shoe: it was not her fault. Mrs Kearney repeated:\\n\\n“She won’t go on without her money.”\\n\\nAfter a swift struggle of tongues Mr Holohan hobbled out in haste. The room was silent. When the strain of the silence had become somewhat painful Miss Healy said to the baritone:\\n\\n“Have you seen Mrs Pat Campbell this week?”\\n\\nThe baritone had not seen her but he had been told that she was very fine. The conversation went no further. The first tenor bent his head and began to count the links of the gold chain which was extended across his waist, smiling and humming random notes to observe the effect on the frontal sinus. From time to time everyone glanced at Mrs Kearney.\\n\\nThe noise in the auditorium had risen to a clamour when Mr Fitzpatrick burst into the room, followed by Mr Holohan, who was panting. The clapping and stamping in the hall were punctuated by whistling. Mr Fitzpatrick held a few banknotes in his hand. He counted out four into Mrs Kearney’s hand and said she would get the other half at the interval. Mrs Kearney said:\\n\\n“This is four shillings short.”\\n\\nBut Kathleen gathered in her skirt and said: “Now, Mr Bell,” to the first item, who was shaking like an aspen. The singer and the accompanist went out together. The noise in hall died away. There was a pause of a few seconds: and then the piano was heard.\\n\\nThe first part of the concert was very successful except for Madam Glynn’s item. The poor lady sang Killarney in a bodiless gasping voice, with all the old-fashioned mannerisms of intonation and pronunciation which she believed lent elegance to her singing. She looked as if she had been resurrected from an old stage-wardrobe and the cheaper parts of the hall made fun of her high wailing notes. The first tenor and the contralto, however, brought down the house. Kathleen played a selection of Irish airs which was generously applauded. The first part closed with a stirring patriotic recitation delivered by a young lady who arranged amateur theatricals. It was deservedly applauded; and, when it was ended, the men went out for the interval, content.\\n\\nAll this time the dressing-room was a hive of excitement. In one corner were Mr Holohan, Mr Fitzpatrick, Miss Beirne, two of the stewards, the baritone, the bass, and Mr O’Madden Burke. Mr O’Madden Burke said it was the most scandalous exhibition he had ever witnessed. Miss Kathleen Kearney’s musical career was ended in Dublin after that, he said. The baritone was asked what did he think of Mrs Kearney’s conduct. He did not like to say anything. He had been paid his money and wished to be at peace with men. However, he said that Mrs Kearney might have taken the artistes into consideration. The stewards and the secretaries debated hotly as to what should be done when the interval came.\\n\\n“I agree with Miss Beirne,” said Mr O’Madden Burke. “Pay her nothing.”\\n\\nIn another corner of the room were Mrs Kearney and her husband, Mr Bell, Miss Healy and the young lady who had to recite the patriotic piece. Mrs Kearney said that the Committee had treated her scandalously. She had spared neither trouble nor expense and this was how she was repaid.\\n\\nThey thought they had only a girl to deal with and that, therefore, they could ride roughshod over her. But she would show them their mistake. They wouldn’t have dared to have treated her like that if she had been a man. But she would see that her daughter got her rights: she wouldn’t be fooled. If they didn’t pay her to the last farthing she would make Dublin ring. Of course she was sorry for the sake of the artistes. But what else could she do? She appealed to the second tenor who said he thought she had not been well treated. Then she appealed to Miss Healy. Miss Healy wanted to join the other group but she did not like to do so because she was a great friend of Kathleen’s and the Kearneys had often invited her to their house.\\n\\nAs soon as the first part was ended Mr Fitzpatrick and Mr Holohan went over to Mrs Kearney and told her that the other four guineas would be paid after the Committee meeting on the following Tuesday and that, in case her daughter did not play for the second part, the Committee would consider the contract broken and would pay nothing.\\n\\n“I haven’t seen any Committee,” said Mrs Kearney angrily. “My daughter has her contract. She will get four pounds eight into her hand or a foot she won’t put on that platform.”\\n\\n“I’m surprised at you, Mrs Kearney,” said Mr Holohan. “I never thought you would treat us this way.”\\n\\n“And what way did you treat me?” asked Mrs Kearney.\\n\\nHer face was inundated with an angry colour and she looked as if she would attack someone with her hands.\\n\\n“I’m asking for my rights,” she said.\\n\\n“You might have some sense of decency,” said Mr Holohan.\\n\\n“Might I, indeed?... And when I ask when my daughter is going to be paid I can’t get a civil answer.”\\n\\nShe tossed her head and assumed a haughty voice:\\n\\n“You must speak to the secretary. It’s not my business. I’m a great fellow fol-the-diddle-I-do.”\\n\\n“I thought you were a lady,” said Mr Holohan, walking away from her abruptly.\\n\\nAfter that Mrs Kearney’s conduct was condemned on all hands: everyone approved of what the Committee had done. She stood at the door, haggard with rage, arguing with her husband and daughter, gesticulating with them. She waited until it was time for the second part to begin in the hope that the secretaries would approach her. But Miss Healy had kindly consented to play one or two accompaniments. Mrs Kearney had to stand aside to allow the baritone and his accompanist to pass up to the platform. She stood still for an instant like an angry stone image and, when the first notes of the song struck her ear, she caught up her daughter’s cloak and said to her husband:\\n\\n“Get a cab!”\\n\\nHe went out at once. Mrs Kearney wrapped the cloak round her daughter and followed him. As she passed through the doorway she stopped and glared into Mr Holohan’s face.\\n\\n“I’m not done with you yet,” she said.\\n\\n“But I’m done with you,” said Mr Holohan.\\n\\nKathleen followed her mother meekly. Mr Holohan began to pace up and down the room, in order to cool himself for he felt his skin on fire.\\n\\n“That’s a nice lady!” he said. “O, she’s a nice lady!”\\n\\n“You did the proper thing, Holohan,” said Mr O’Madden Burke, poised upon his umbrella in approval.\\n'},\n",
       " {'sorrow': 'Sorrow\\n\\nTHE turner, Grigory Petrov, who had been known for years past as a splendid craftsman, and at the same time as the most senseless peasant in the Galtchinskoy district, was taking his old woman to the hospital. He had to drive over twenty miles, and it was an awful road. A government post driver could hardly have coped with it, much less an incompetent sluggard like Grigory. A cutting cold wind was blowing straight in his face. Clouds of snowflakes were whirling round and round in all directions, so that one could not tell whether the snow was falling from the sky or rising from the earth. The fields, the telegraph posts, and the forest could not be seen for the fog of snow. And when a particularly violent gust of wind swooped down on Grigory, even the yoke above the horse’s head could not be seen. The wretched, feeble little nag crawled slowly along. It took all its strength to drag its legs out of the snow and to tug with its head. The turner was in a hurry. He kept restlessly hopping up and down on the front seat and lashing the horse’s back.\\n\\n“Don’t cry, Matryona,...” he muttered. “Have a little patience. Please God we shall reach the hospital, and in a trice it will be the right thing for you.... Pavel Ivanitch will give you some little drops, or tell them to bleed you; or maybe his honor will be pleased to rub you with some sort of spirit—it’ll... draw it out of your side. Pavel Ivanitch will do his best. He will shout and stamp about, but he will do his best.... He is a nice gentleman, affable, God give him health! As soon as we get there he will dart out of his room and will begin calling me names. ‘How? Why so?’ he will cry. ‘Why did you not come at the right time? I am not a dog to be hanging about waiting on you devils all day. Why did you not come in the morning? Go away! Get out of my sight. Come again to-morrow.’ And I shall say: ‘Mr. Doctor! Pavel Ivanitch! Your honor!’ Get on, do! plague take you, you devil! Get on!”\\n\\nThe turner lashed his nag, and without looking at the old woman went on muttering to himself:\\n\\n“‘Your honor! It’s true as before God.... Here’s the Cross for you, I set off almost before it was light. How could I be here in time if the Lord.... The Mother of God... is wroth, and has sent such a snowstorm? Kindly look for yourself.... Even a first-rate horse could not do it, while mine—you can see for yourself—is not a horse but a disgrace.’ And Pavel Ivanitch will frown and shout: ‘We know you! You always find some excuse! Especially you, Grishka; I know you of old! I’ll be bound you have stopped at half a dozen taverns!’ And I shall say: ‘Your honor! am I a criminal or a heathen? My old woman is giving up her soul to God, she is dying, and am I going to run from tavern to tavern! What an idea, upon my word! Plague take them, the taverns!’ Then Pavel Ivanitch will order you to be taken into the hospital, and I shall fall at his feet.... ‘Pavel Ivanitch! Your honor, we thank you most humbly! Forgive us fools and anathemas, don’t be hard on us peasants! We deserve a good kicking, while you graciously put yourself out and mess your feet in the snow!’ And Pavel Ivanitch will give me a look as though he would like to hit me, and will say: ‘You’d much better not be swilling vodka, you fool, but taking pity on your old woman instead of falling at my feet. You want a thrashing!’ ‘You are right there—a thrashing, Pavel Ivanitch, strike me God! But how can we help bowing down at your feet if you are our benefactor, and a real father to us? Your honor! I give you my word,... here as before God,... you may spit in my face if I deceive you: as soon as my Matryona, this same here, is well again and restored to her natural condition, I’ll make anything for your honor that you would like to order! A cigarette-case, if you like, of the best birchwood,... balls for croquet, skittles of the most foreign pattern I can turn.... I will make anything for you! I won’t take a farthing from you. In Moscow they would charge you four roubles for such a cigarette-case, but I won’t take a farthing.’ The doctor will laugh and say: ‘Oh, all right, all right.... I see! But it’s a pity you are a drunkard....’ I know how to manage the gentry, old girl. There isn’t a gentleman I couldn’t talk to. Only God grant we don’t get off the road. Oh, how it is blowing! One’s eyes are full of snow.”\\n\\nAnd the turner went on muttering endlessly. He prattled on mechanically to get a little relief from his depressing feelings. He had plenty of words on his tongue, but the thoughts and questions in his brain were even more numerous. Sorrow had come upon the turner unawares, unlooked-for, and unexpected, and now he could not get over it, could not recover himself. He had lived hitherto in unruffled calm, as though in drunken half-consciousness, knowing neither grief nor joy, and now he was suddenly aware of a dreadful pain in his heart. The careless idler and drunkard found himself quite suddenly in the position of a busy man, weighed down by anxieties and haste, and even struggling with nature.\\n\\nThe turner remembered that his trouble had begun the evening before. When he had come home yesterday evening, a little drunk as usual, and from long-established habit had begun swearing and shaking his fists, his old woman had looked at her rowdy spouse as she had never looked at him before. Usually, the expression in her aged eyes was that of a martyr, meek like that of a dog frequently beaten and badly fed; this time she had looked at him sternly and immovably, as saints in the holy pictures or dying people look. From that strange, evil look in her eyes the trouble had begun. The turner, stupefied with amazement, borrowed a horse from a neighbor, and now was taking his old woman to the hospital in the hope that, by means of powders and ointments, Pavel Ivanitch would bring back his old woman’s habitual expression.\\n\\n“I say, Matryona,...” the turner muttered, “if Pavel Ivanitch asks you whether I beat you, say, ‘Never!’ and I never will beat you again. I swear it. And did I ever beat you out of spite? I just beat you without thinking. I am sorry for you. Some men wouldn’t trouble, but here I am taking you.... I am doing my best. And the way it snows, the way it snows! Thy Will be done, O Lord! God grant we don’t get off the road.... Does your side ache, Matryona, that you don’t speak? I ask you, does your side ache?”\\n\\nIt struck him as strange that the snow on his old woman’s face was not melting; it was queer that the face itself looked somehow drawn, and had turned a pale gray, dingy waxen hue and had grown grave and solemn.\\n\\n“You are a fool!” muttered the turner.... “I tell you on my conscience, before God,... and you go and... Well, you are a fool! I have a good mind not to take you to Pavel Ivanitch!”\\n\\nThe turner let the reins go and began thinking. He could not bring himself to look round at his old woman: he was frightened. He was afraid, too, of asking her a question and not getting an answer. At last, to make an end of uncertainty, without looking round he felt his old woman’s cold hand. The lifted hand fell like a log.\\n\\n“She is dead, then! What a business!”\\n\\nAnd the turner cried. He was not so much sorry as annoyed. He thought how quickly everything passes in this world! His trouble had hardly begun when the final catastrophe had happened. He had not had time to live with his old woman, to show her he was sorry for her before she died. He had lived with her for forty years, but those forty years had passed by as it were in a fog. What with drunkenness, quarreling, and poverty, there had been no feeling of life. And, as though to spite him, his old woman died at the very time when he felt he was sorry for her, that he could not live without her, and that he had behaved dreadfully badly to her.\\n\\n“Why, she used to go the round of the village,” he remembered. “I sent her out myself to beg for bread. What a business! She ought to have lived another ten years, the silly thing; as it is I’ll be bound she thinks I really was that sort of man.... Holy Mother! but where the devil am I driving? There’s no need for a doctor now, but a burial. Turn back!”\\n\\nGrigory turned back and lashed the horse with all his might. The road grew worse and worse every hour. Now he could not see the yoke at all. Now and then the sledge ran into a young fir tree, a dark object scratched the turner’s hands and flashed before his eyes, and the field of vision was white and whirling again.\\n\\n“To live over again,” thought the turner.\\n\\nHe remembered that forty years ago Matryona had been young, handsome, merry, that she had come of a well-to-do family. They had married her to him because they had been attracted by his handicraft. All the essentials for a happy life had been there, but the trouble was that, just as he had got drunk after the wedding and lay sprawling on the stove, so he had gone on without waking up till now. His wedding he remembered, but of what happened after the wedding—for the life of him he could remember nothing, except perhaps that he had drunk, lain on the stove, and quarreled. Forty years had been wasted like that.\\n\\nThe white clouds of snow were beginning little by little to turn gray. It was getting dusk.\\n\\n“Where am I going?” the turner suddenly bethought him with a start. “I ought to be thinking of the burial, and I am on the way to the hospital.... It as is though I had gone crazy.”\\n\\nGrigory turned round again, and again lashed his horse. The little nag strained its utmost and, with a snort, fell into a little trot. The turner lashed it on the back time after time.... A knocking was audible behind him, and though he did not look round, he knew it was the dead woman’s head knocking against the sledge. And the snow kept turning darker and darker, the wind grew colder and more cutting....\\n\\n“To live over again!” thought the turner. “I should get a new lathe, take orders,... give the money to my old woman....”\\n\\nAnd then he dropped the reins. He looked for them, tried to pick them up, but could not—his hands would not work....\\n\\n“It does not matter,” he thought, “the horse will go of itself, it knows the way. I might have a little sleep now.... Before the funeral or the requiem it would be as well to get a little rest....”\\n\\nThe turner closed his eyes and dozed. A little later he heard the horse stop; he opened his eyes and saw before him something dark like a hut or a haystack....\\n\\nHe would have got out of the sledge and found out what it was, but he felt overcome by such inertia that it seemed better to freeze than move, and he sank into a peaceful sleep.\\n\\nHe woke up in a big room with painted walls. Bright sunlight was streaming in at the windows. The turner saw people facing him, and his first feeling was a desire to show himself a respectable man who knew how things should be done.\\n\\n“A requiem, brothers, for my old woman,” he said. “The priest should be told....”\\n\\n“Oh, all right, all right; lie down,” a voice cut him short.\\n\\n“Pavel Ivanitch!” the turner cried in surprise, seeing the doctor before him. “Your honor, benefactor!”\\n\\nHe wanted to leap up and fall on his knees before the doctor, but felt that his arms and legs would not obey him.\\n\\n“Your honor, where are my legs, where are my arms!”\\n\\n“Say good-by to your arms and legs.... They’ve been frozen off. Come, come!... What are you crying for? You’ve lived your life, and thank God for it! I suppose you have had sixty years of it—that’s enough for you!...”\\n\\n“I am grieving.... Graciously forgive me! If I could have another five or six years!...”\\n\\n“What for?”\\n\\n“The horse isn’t mine, I must give it back.... I must bury my old woman.... How quickly it is all ended in this world! Your honor, Pavel Ivanitch! A cigarette-case of birchwood of the best! I’ll turn you croquet balls....”\\n\\nThe doctor went out of the ward with a wave of his hand. It was all over with the turner.\\n'},\n",
       " {'the-lantern-keepers': 'The Lantern Keepers\\n\\nIn the quiet town of Bramblewick, perched atop rolling hills blanketed in wildflowers, stood a lighthouse far from any sea. Its lantern burned nightly, a mystery to all who came to the town. Locals called it \"The Beacon of Bramblewick,\" though no one could recall why it was first lit.\\n\\nThe keeper of the lantern, a stooped man named Callum, had tended to it for decades. Callum rarely spoke to anyone, his gnarled hands and thick spectacles more suited to the constant care of the light. His only companion was a small black cat, Ember, who followed him like a shadow.\\n\\nOne late summer evening, Eliza, a young artist new to Bramblewick, climbed the hill to sketch the lighthouse. She found Callum outside, polishing the brass lantern. He glanced up, his face etched with lines like an old map.\\n\\n“You’re new,” he said.\\n\\n“I am,” Eliza replied, smiling. “What’s the light for?”\\n\\nCallum hesitated before answering. “To guide those who are lost.”\\n\\nIntrigued, Eliza decided to learn more. She spent days in the town library, poring over dusty records and asking questions. No one could give her a clear answer about the lighthouse’s origins, but she discovered an odd pattern: every few years, someone claimed the light had saved them from peril.\\n\\nThere was the tale of Agnes, an elderly farmer, who swore the beacon guided her home during a terrible storm. Then there was Jonah, a merchant, who claimed it led him to a treasure hidden deep in the woods.\\n\\n“Superstition,” the librarian muttered when Eliza asked about it. “But you never know.”\\n\\nThat night, Eliza walked back up to the lighthouse. Callum was inside, adjusting the mechanism. “Tell me,” she asked, “do you believe it’s magic?”\\n\\nCallum chuckled, though it sounded more like a cough. “Magic, faith, coincidence—it doesn’t matter what you call it. It works.”\\n\\nBefore Eliza could ask more, a boy burst in. His name was Ollie, the baker’s son, and his face was pale. “Please,” he gasped, “my sister’s gone missing in the woods!”\\n\\nCallum didn’t hesitate. He cranked the lantern to its brightest setting, its beam slicing through the dark.\\n\\n“Go,” he told Eliza and Ollie. “Follow the light.”\\n\\nThe two sprinted into the woods, the lantern’s glow their only guide. They called out for Ollie’s sister, their voices swallowed by the rustling leaves and distant hoots of owls.\\n\\nAfter what felt like hours, they found her. Tilly, no older than eight, was huddled by a tree, her ankle twisted. The light from the lighthouse seemed to rest upon her, as though pointing the way.\\n\\nThey carried Tilly back to town, where the doctor set her ankle. “Thank you,” Ollie said to Eliza, then added, “and to him.”\\n\\nEliza nodded, understanding he meant Callum.\\n\\nThe next day, Eliza visited Callum again. “You saved her,” she said.\\n\\nHe shook his head. “I only lit the way. It’s up to others to walk the path.”\\n\\nOver time, Eliza became a regular at the lighthouse, helping Callum with the upkeep. She learned how to trim the wicks, polish the glass, and refill the oil. She also learned the stories Callum carried—stories of those the light had guided and the weight of his responsibility.\\n\\nAs autumn approached, Callum grew weaker. His hands trembled, and his cough deepened. “It’s time,” he said one evening, “for someone new to tend the light.”\\n\\nEliza protested, but Callum insisted. “The light chooses its keeper,” he said. “And it’s chosen you.”\\n\\nReluctantly, Eliza accepted. Callum taught her everything he knew, and one crisp morning, he was gone. Ember stayed behind, curling up by the lantern as though guarding its secrets.\\n\\nLife continued in Bramblewick, though now it was Eliza who climbed the hill each night. The townsfolk noticed the light shone brighter under her care, and the stories continued—lost travelers, hidden treasures, and lives saved.\\n\\nYears passed, and Eliza became as much a part of Bramblewick as the lighthouse itself. Children grew up hearing tales of the artist who became the lantern keeper, and visitors marveled at the inexplicable glow that seemed to guide their hearts.\\n\\nOne evening, as the first snow of winter fell, Eliza stood by the lantern and gazed out at the town below. She thought of Callum and the countless others who had tended the light before her. She wondered about the keepers yet to come.\\n\\nAnd as she lit the lantern, its beam stretching far into the night, she whispered, “May it always guide those who are lost.”\\n'}]"
      ]
     },
     "execution_count": 7,
     "metadata": {},
     "output_type": "execute_result"
    }
   ],
   "source": [
    "a = load_stories(\"./data\")\n",
    "a[:3]"
   ]
  },
  {
   "cell_type": "code",
   "execution_count": null,
   "metadata": {},
   "outputs": [],
   "source": []
  },
  {
   "cell_type": "code",
   "execution_count": 13,
   "metadata": {},
   "outputs": [],
   "source": [
    "def compute_embeddings(stories: List[Dict[str, Any]], \n",
    "                        persist_directory: str = './chroma_db'):\n",
    "\n",
    "    # Initialize embedding model\n",
    "    model = SentenceTransformer(\"all-MiniLM-L6-v2\")\n",
    "    # model = SentenceTransformerEmbeddings(model_name=\"all-MiniLM-L6-v2\")\n",
    "    \n",
    "    # Initialize ChromaDB client\n",
    "    chroma_client = chromadb.PersistentClient(\n",
    "        path=persist_directory, \n",
    "        settings=Settings(anonymized_telemetry=False)\n",
    "    )\n",
    "    \n",
    "    # Create or get collection\n",
    "    collection = chroma_client.get_or_create_collection(name=\"stories\")\n",
    "    \n",
    "    # Process and embed stories\n",
    "    for story in stories:\n",
    "        # Split story into chunks for better embedding\n",
    "        text_splitter = RecursiveCharacterTextSplitter(\n",
    "            chunk_size=1000, \n",
    "            chunk_overlap=200\n",
    "        )\n",
    "        \n",
    "        # Split story content into chunks\n",
    "        text_chunks = text_splitter.split_text(story['content'])\n",
    "        \n",
    "        # Embed and store chunks\n",
    "        for chunk_idx, chunk in enumerate(text_chunks):\n",
    "            # Generate embedding using Sentence Transformers\n",
    "            embedding = model.encode(chunk).tolist()\n",
    "            \n",
    "            collection.add(\n",
    "                embeddings=[embedding],\n",
    "                documents=[chunk],\n",
    "                metadatas=[{\n",
    "                    'story_title': story['title'], \n",
    "                    'chunk_index': chunk_idx\n",
    "                }],\n",
    "                ids=[f\"{story['title']}_{chunk_idx}\"]\n",
    "            )\n",
    "    \n",
    "    print(f\"Embedded {len(stories)} stories in ChromaDB\")\n"
   ]
  },
  {
   "cell_type": "code",
   "execution_count": null,
   "metadata": {},
   "outputs": [],
   "source": []
  },
  {
   "cell_type": "code",
   "execution_count": 8,
   "metadata": {},
   "outputs": [],
   "source": [
    "\n",
    "def compute_embeddings(stories: List[Dict[str, Any]], \n",
    "                        persist_directory: str = './chroma_db'):\n",
    "\n",
    "    # Initialize embedding model\n",
    "    model = SentenceTransformer(\"all-MiniLM-L6-v2\")\n",
    "    \n",
    "    # Initialize ChromaDB client\n",
    "    chroma_client = chromadb.PersistentClient(\n",
    "        path=persist_directory, \n",
    "        settings=Settings(anonymized_telemetry=False)\n",
    "    )\n",
    "    \n",
    "    # Create or get collection\n",
    "    collection = chroma_client.get_or_create_collection(name=\"stories\")\n",
    "    \n",
    "    # Process and embed stories\n",
    "    for story in stories:\n",
    "        # Since each story is a dictionary with a single key-value pair, unpack it\n",
    "        for title, content in story.items():\n",
    "            # Split story into chunks for better embedding\n",
    "            text_splitter = RecursiveCharacterTextSplitter(\n",
    "                chunk_size=1000, \n",
    "                chunk_overlap=200\n",
    "            )\n",
    "            \n",
    "            # Split the story content into chunks\n",
    "            text_chunks = text_splitter.split_text(content)\n",
    "            \n",
    "            # Embed and store chunks\n",
    "            for chunk_idx, chunk in enumerate(text_chunks):\n",
    "                # Generate embedding using Sentence Transformers\n",
    "                embedding = model.encode(chunk).tolist()\n",
    "                \n",
    "                collection.add(\n",
    "                    embeddings=[embedding],\n",
    "                    documents=[chunk],\n",
    "                    metadatas=[{\n",
    "                        'story_title': title,  # Use the title (key) for metadata\n",
    "                        'chunk_index': chunk_idx\n",
    "                    }],\n",
    "                    ids=[f\"{title}_{chunk_idx}\"]  # Create unique ID for each chunk\n",
    "                )\n",
    "    \n",
    "    print(f\"Embedded {len(stories)} stories in ChromaDB\")\n"
   ]
  },
  {
   "cell_type": "code",
   "execution_count": null,
   "metadata": {},
   "outputs": [],
   "source": []
  },
  {
   "cell_type": "code",
   "execution_count": null,
   "metadata": {},
   "outputs": [],
   "source": []
  },
  {
   "cell_type": "code",
   "execution_count": 4,
   "metadata": {},
   "outputs": [
    {
     "name": "stdout",
     "output_type": "stream",
     "text": [
      "A Mother\n",
      "\n",
      "Mr Holohan, assistant secretary of the Eire Abu Society, had been walking up and down Dublin for nearly a month, with his hands and pockets full of dirty pieces of paper, arranging aboutal.\n",
      "\n",
      "\n",
      "############\n",
      "Sorrow\n",
      "\n",
      "THE turner, Grigory Petrov\n",
      "\n",
      "############\n"
     ]
    }
   ],
   "source": [
    "data = [\n",
    "    {'a-mother':'A Mother\\n\\nMr Holohan, assistant secretary of the Eire Abu Society, had been walking up and down Dublin for nearly a month, with his hands and pockets full of dirty pieces of paper, arranging aboutal.\\n'},\n",
    "    {'sorrow' : 'Sorrow\\n\\nTHE turner, Grigory Petrov'}\n",
    "]\n",
    "\n",
    "\n",
    "for story in data:\n",
    "    # Since each story is a dictionary with a single key-value pair, unpack it\n",
    "    for title, content in story.items():\n",
    "        # Split story into chunks for better embedding\n",
    "        # print(title)\n",
    "        print(content)\n",
    "\n",
    "        print(\"\\n############\")\n",
    "\n",
    "\n"
   ]
  },
  {
   "cell_type": "code",
   "execution_count": null,
   "metadata": {},
   "outputs": [],
   "source": []
  },
  {
   "cell_type": "code",
   "execution_count": 9,
   "metadata": {},
   "outputs": [
    {
     "name": "stdout",
     "output_type": "stream",
     "text": [
      "Embedded 5 stories in ChromaDB\n"
     ]
    }
   ],
   "source": [
    "\n",
    "a = load_stories(\"./data\")\n",
    "compute_embeddings(a)"
   ]
  },
  {
   "cell_type": "markdown",
   "metadata": {},
   "source": [
    "## load information"
   ]
  },
  {
   "cell_type": "code",
   "execution_count": null,
   "metadata": {},
   "outputs": [],
   "source": []
  },
  {
   "cell_type": "code",
   "execution_count": null,
   "metadata": {},
   "outputs": [],
   "source": []
  },
  {
   "cell_type": "code",
   "execution_count": null,
   "metadata": {},
   "outputs": [],
   "source": []
  },
  {
   "cell_type": "code",
   "execution_count": 10,
   "metadata": {},
   "outputs": [],
   "source": [
    "import os\n",
    "import json\n",
    "from typing import List, Dict, Any\n",
    "\n",
    "import chromadb\n",
    "from sentence_transformers import SentenceTransformer\n",
    "from chromadb.config import Settings\n",
    "\n",
    "# Use Groq for text generation\n",
    "from groq import Groq"
   ]
  },
  {
   "cell_type": "code",
   "execution_count": 11,
   "metadata": {},
   "outputs": [],
   "source": [
    "def extract_character_info(character_name: str, \n",
    "                            persist_directory: str = './chroma_db', \n",
    "                            model_name: str = 'all-MiniLM-L6-v2') -> Dict[str, Any]:\n",
    "    \"\"\"\n",
    "    Extract character information from embedded stories.\n",
    "    \"\"\"\n",
    "    # Initialize embedding model\n",
    "    model = SentenceTransformer(model_name)\n",
    "    \n",
    "    # Initialize ChromaDB client\n",
    "    chroma_client = chromadb.PersistentClient(\n",
    "        path=persist_directory, \n",
    "        settings=Settings(anonymized_telemetry=False)\n",
    "    )\n",
    "    \n",
    "    # Get collection\n",
    "    collection = chroma_client.get_or_create_collection(name=\"stories\")\n",
    "    \n",
    "    # Embed character name\n",
    "    character_embedding = model.encode(character_name).tolist()\n",
    "    \n",
    "    # Search for character mentions\n",
    "    results = collection.query(\n",
    "        query_embeddings=[character_embedding],\n",
    "        n_results=5  # Top 5 most relevant chunks\n",
    "    )\n",
    "    \n",
    "    return results"
   ]
  },
  {
   "cell_type": "code",
   "execution_count": 12,
   "metadata": {},
   "outputs": [
    {
     "name": "stdout",
     "output_type": "stream",
     "text": [
      "{'ids': [['the-lantern-keepers_5', 'the-lantern-keepers_2', 'the-lantern-keepers_1', 'the-lantern-keepers_3', 'the-schoolmistress_19']], 'embeddings': None, 'documents': [['One evening, as the first snow of winter fell, Eliza stood by the lantern and gazed out at the town below. She thought of Callum and the countless others who had tended the light before her. She wondered about the keepers yet to come.\\n\\nAnd as she lit the lantern, its beam stretching far into the night, she whispered, “May it always guide those who are lost.”', 'That night, Eliza walked back up to the lighthouse. Callum was inside, adjusting the mechanism. “Tell me,” she asked, “do you believe it’s magic?”\\n\\nCallum chuckled, though it sounded more like a cough. “Magic, faith, coincidence—it doesn’t matter what you call it. It works.”\\n\\nBefore Eliza could ask more, a boy burst in. His name was Ollie, the baker’s son, and his face was pale. “Please,” he gasped, “my sister’s gone missing in the woods!”\\n\\nCallum didn’t hesitate. He cranked the lantern to its brightest setting, its beam slicing through the dark.\\n\\n“Go,” he told Eliza and Ollie. “Follow the light.”\\n\\nThe two sprinted into the woods, the lantern’s glow their only guide. They called out for Ollie’s sister, their voices swallowed by the rustling leaves and distant hoots of owls.\\n\\nAfter what felt like hours, they found her. Tilly, no older than eight, was huddled by a tree, her ankle twisted. The light from the lighthouse seemed to rest upon her, as though pointing the way.', '“You’re new,” he said.\\n\\n“I am,” Eliza replied, smiling. “What’s the light for?”\\n\\nCallum hesitated before answering. “To guide those who are lost.”\\n\\nIntrigued, Eliza decided to learn more. She spent days in the town library, poring over dusty records and asking questions. No one could give her a clear answer about the lighthouse’s origins, but she discovered an odd pattern: every few years, someone claimed the light had saved them from peril.\\n\\nThere was the tale of Agnes, an elderly farmer, who swore the beacon guided her home during a terrible storm. Then there was Jonah, a merchant, who claimed it led him to a treasure hidden deep in the woods.\\n\\n“Superstition,” the librarian muttered when Eliza asked about it. “But you never know.”\\n\\nThat night, Eliza walked back up to the lighthouse. Callum was inside, adjusting the mechanism. “Tell me,” she asked, “do you believe it’s magic?”', 'After what felt like hours, they found her. Tilly, no older than eight, was huddled by a tree, her ankle twisted. The light from the lighthouse seemed to rest upon her, as though pointing the way.\\n\\nThey carried Tilly back to town, where the doctor set her ankle. “Thank you,” Ollie said to Eliza, then added, “and to him.”\\n\\nEliza nodded, understanding he meant Callum.\\n\\nThe next day, Eliza visited Callum again. “You saved her,” she said.\\n\\nHe shook his head. “I only lit the way. It’s up to others to walk the path.”\\n\\nOver time, Eliza became a regular at the lighthouse, helping Callum with the upkeep. She learned how to trim the wicks, polish the glass, and refill the oil. She also learned the stories Callum carried—stories of those the light had guided and the weight of his responsibility.\\n\\nAs autumn approached, Callum grew weaker. His hands trembled, and his cough deepened. “It’s time,” he said one evening, “for someone new to tend the light.”', 'A little pock-marked man with a black beard, who was quite drunk, was suddenly surprised by something and began using bad language.\\n\\n“What are you swearing at, you there?” Semyon, who was sitting some way off, responded angrily. “Don’t you see the young lady?”\\n\\n“The young lady!” someone mimicked in another corner.\\n\\n“Swinish crow!”\\n\\n“We meant nothing...” said the little man in confusion. “I beg your pardon. We pay with our money and the young lady with hers. Good-morning!”\\n\\n“Good-morning,” answered the schoolmistress.\\n\\n“And we thank you most feelingly.”\\n\\nMarya Vassilyevna drank her tea with satisfaction, and she, too, began turning red like the peasants, and fell to thinking again about firewood, about the watchman....\\n\\n“Stay, old man,” she heard from the next table, “it’s the schoolmistress from Vyazovye.... We know her; she’s a good young lady.”\\n\\n“She’s all right!”']], 'uris': None, 'data': None, 'metadatas': [[{'chunk_index': 5, 'story_title': 'the-lantern-keepers'}, {'chunk_index': 2, 'story_title': 'the-lantern-keepers'}, {'chunk_index': 1, 'story_title': 'the-lantern-keepers'}, {'chunk_index': 3, 'story_title': 'the-lantern-keepers'}, {'chunk_index': 19, 'story_title': 'the-schoolmistress'}]], 'distances': [[0.9464040398597717, 1.1371524333953857, 1.1790132522583008, 1.1905817985534668, 1.2689180600828627]], 'included': [<IncludeEnum.distances: 'distances'>, <IncludeEnum.documents: 'documents'>, <IncludeEnum.metadatas: 'metadatas'>]}\n"
     ]
    }
   ],
   "source": [
    "result = extract_character_info(\"Eliza\")\n",
    "print(result)"
   ]
  },
  {
   "cell_type": "code",
   "execution_count": 13,
   "metadata": {},
   "outputs": [
    {
     "name": "stdout",
     "output_type": "stream",
     "text": [
      "[[{'chunk_index': 5, 'story_title': 'the-lantern-keepers'}, {'chunk_index': 2, 'story_title': 'the-lantern-keepers'}, {'chunk_index': 1, 'story_title': 'the-lantern-keepers'}, {'chunk_index': 3, 'story_title': 'the-lantern-keepers'}, {'chunk_index': 19, 'story_title': 'the-schoolmistress'}]]\n"
     ]
    }
   ],
   "source": [
    "# Access the 'metadatas' key\n",
    "data = result['metadatas']\n",
    "print(data)"
   ]
  },
  {
   "cell_type": "code",
   "execution_count": 14,
   "metadata": {},
   "outputs": [
    {
     "name": "stdout",
     "output_type": "stream",
     "text": [
      "{'the-poor-relations-story': 5}\n"
     ]
    }
   ],
   "source": [
    "result = extract_character_info(\"john\")\n",
    "# print(result)\n",
    "data = result['metadatas']\n",
    "# print(data)\n",
    "\n",
    "# Initialize an empty dictionary to store the counts\n",
    "title_counts = {}\n",
    "\n",
    "# Iterate through the list of dictionaries\n",
    "for sublist in data:\n",
    "    for item in sublist:\n",
    "        title = item['story_title']\n",
    "        if title in title_counts:\n",
    "            title_counts[title] += 1\n",
    "        else:\n",
    "            title_counts[title] = 1\n",
    "\n",
    "# Sort the dictionary by the count of occurrences in descending order\n",
    "sorted_title_counts = dict(sorted(title_counts.items(), key=lambda item: item[1], reverse=True))\n",
    "\n",
    "# Print the resulting dictionary\n",
    "print(sorted_title_counts)\n"
   ]
  },
  {
   "cell_type": "markdown",
   "metadata": {},
   "source": []
  },
  {
   "cell_type": "code",
   "execution_count": 15,
   "metadata": {},
   "outputs": [
    {
     "data": {
      "text/plain": [
       "[{'a-mother': 'A Mother\\n\\nMr Holohan, assistant secretary of the Eire Abu Society, had been walking up and down Dublin for nearly a month, with his hands and pockets full of dirty pieces of paper, arranging about the series of concerts. He had a game leg and for this his friends called him Hoppy Holohan. He walked up and down constantly, stood by the hour at street corners arguing the point and made notes; but in the end it was Mrs Kearney who arranged everything.\\n\\nMiss Devlin had become Mrs Kearney out of spite. She had been educated in a high-class convent, where she had learned French and music. As she was naturally pale and unbending in manner she made few friends at school. When she came to the age of marriage she was sent out to many houses where her playing and ivory manners were much admired. She sat amid the chilly circle of her accomplishments, waiting for some suitor to brave it and offer her a brilliant life. But the young men whom she met were ordinary and she gave them no encouragement, trying to console her romantic desires by eating a great deal of Turkish Delight in secret. However, when she drew near the limit and her friends began to loosen their tongues about her, she silenced them by marrying Mr Kearney, who was a bootmaker on Ormond Quay.\\n\\nHe was much older than she. His conversation, which was serious, took place at intervals in his great brown beard. After the first year of married life, Mrs Kearney perceived that such a man would wear better than a romantic person, but she never put her own romantic ideas away. He was sober, thrifty and pious; he went to the altar every first Friday, sometimes with her, oftener by himself. But she never weakened in her religion and was a good wife to him. At some party in a strange house when she lifted her eyebrow ever so slightly he stood up to take his leave and, when his cough troubled him, she put the eider-down quilt over his feet and made a strong rum punch. For his part, he was a model father. By paying a small sum every week into a society, he ensured for both his daughters a dowry of one hundred pounds each when they came to the age of twenty-four. He sent the elder daughter, Kathleen, to a good convent, where she learned French and music, and afterward paid her fees at the Academy. Every year in the month of July Mrs Kearney found occasion to say to some friend:\\n\\n“My good man is packing us off to Skerries for a few weeks.”\\n\\nIf it was not Skerries it was Howth or Greystones.\\n\\nWhen the Irish Revival began to be appreciable Mrs Kearney determined to take advantage of her daughter’s name and brought an Irish teacher to the house. Kathleen and her sister sent Irish picture postcards to their friends and these friends sent back other Irish picture postcards. On special Sundays, when Mr Kearney went with his family to the pro-cathedral, a little crowd of people would assemble after mass at the corner of Cathedral Street. They were all friends of the Kearneys—musical friends or Nationalist friends; and, when they had played every little counter of gossip, they shook hands with one another all together, laughing at the crossing of so many hands, and said good-bye to one another in Irish. Soon the name of Miss Kathleen Kearney began to be heard often on people’s lips. People said that she was very clever at music and a very nice girl and, moreover, that she was a believer in the language movement. Mrs Kearney was well content at this. Therefore she was not surprised when one day Mr Holohan came to her and proposed that her daughter should be the accompanist at a series of four grand concerts which his Society was going to give in the Antient Concert Rooms. She brought him into the drawing-room, made him sit down and brought out the decanter and the silver biscuit-barrel. She entered heart and soul into the details of the enterprise, advised and dissuaded; and finally a contract was drawn up by which Kathleen was to receive eight guineas for her services as accompanist at the four grand concerts.\\n\\nAs Mr Holohan was a novice in such delicate matters as the wording of bills and the disposing of items for a programme, Mrs Kearney helped him. She had tact. She knew what artistes should go into capitals and what artistes should go into small type. She knew that the first tenor would not like to come on after Mr Meade’s comic turn. To keep the audience continually diverted she slipped the doubtful items in between the old favourites. Mr Holohan called to see her every day to have her advice on some point. She was invariably friendly and advising—homely, in fact. She pushed the decanter towards him, saying:\\n\\n“Now, help yourself, Mr Holohan!”\\n\\nAnd while he was helping himself she said:\\n\\n“Don’t be afraid! Don’t be afraid of it!”\\n\\nEverything went on smoothly. Mrs Kearney bought some lovely blush-pink charmeuse in Brown Thomas’s to let into the front of Kathleen’s dress. It cost a pretty penny; but there are occasions when a little expense is justifiable. She took a dozen of two-shilling tickets for the final concert and sent them to those friends who could not be trusted to come otherwise. She forgot nothing and, thanks to her, everything that was to be done was done.\\n\\nThe concerts were to be on Wednesday, Thursday, Friday and Saturday. When Mrs Kearney arrived with her daughter at the Antient Concert Rooms on Wednesday night she did not like the look of things. A few young men, wearing bright blue badges in their coats, stood idle in the vestibule; none of them wore evening dress. She passed by with her daughter and a quick glance through the open door of the hall showed her the cause of the stewards’ idleness. At first she wondered had she mistaken the hour. No, it was twenty minutes to eight.\\n\\nIn the dressing-room behind the stage she was introduced to the secretary of the Society, Mr Fitzpatrick. She smiled and shook his hand. He was a little man, with a white vacant face. She noticed that he wore his soft brown hat carelessly on the side of his head and that his accent was flat. He held a programme in his hand and, while he was talking to her, he chewed one end of it into a moist pulp. He seemed to bear disappointments lightly. Mr Holohan came into the dressing-room every few minutes with reports from the box-office. The artistes talked among themselves nervously, glanced from time to time at the mirror and rolled and unrolled their music. When it was nearly half-past eight, the few people in the hall began to express their desire to be entertained. Mr Fitzpatrick came in, smiled vacantly at the room, and said:\\n\\n“Well now, ladies and gentlemen. I suppose we’d better open the ball.”\\n\\nMrs Kearney rewarded his very flat final syllable with a quick stare of contempt, and then said to her daughter encouragingly:\\n\\n“Are you ready, dear?”\\n\\nWhen she had an opportunity, she called Mr Holohan aside and asked him to tell her what it meant. Mr Holohan did not know what it meant. He said that the Committee had made a mistake in arranging for four concerts: four was too many.\\n\\n“And the artistes!” said Mrs Kearney. “Of course they are doing their best, but really they are not good.”\\n\\nMr Holohan admitted that the artistes were no good but the Committee, he said, had decided to let the first three concerts go as they pleased and reserve all the talent for Saturday night. Mrs Kearney said nothing, but, as the mediocre items followed one another on the platform and the few people in the hall grew fewer and fewer, she began to regret that she had put herself to any expense for such a concert. There was something she didn’t like in the look of things and Mr Fitzpatrick’s vacant smile irritated her very much. However, she said nothing and waited to see how it would end. The concert expired shortly before ten, and everyone went home quickly.\\n\\nThe concert on Thursday night was better attended, but Mrs Kearney saw at once that the house was filled with paper. The audience behaved indecorously, as if the concert were an informal dress rehearsal. Mr Fitzpatrick seemed to enjoy himself; he was quite unconscious that Mrs Kearney was taking angry note of his conduct. He stood at the edge of the screen, from time to time jutting out his head and exchanging a laugh with two friends in the corner of the balcony. In the course of the evening, Mrs Kearney learned that the Friday concert was to be abandoned and that the Committee was going to move heaven and earth to secure a bumper house on Saturday night. When she heard this, she sought out Mr Holohan. She buttonholed him as he was limping out quickly with a glass of lemonade for a young lady and asked him was it true. Yes, it was true.\\n\\n“But, of course, that doesn’t alter the contract,” she said. “The contract was for four concerts.”\\n\\nMr Holohan seemed to be in a hurry; he advised her to speak to Mr Fitzpatrick. Mrs Kearney was now beginning to be alarmed. She called Mr Fitzpatrick away from his screen and told him that her daughter had signed for four concerts and that, of course, according to the terms of the contract, she should receive the sum originally stipulated for, whether the society gave the four concerts or not. Mr Fitzpatrick, who did not catch the point at issue very quickly, seemed unable to resolve the difficulty and said that he would bring the matter before the Committee. Mrs Kearney’s anger began to flutter in her cheek and she had all she could do to keep from asking:\\n\\n“And who is the Cometty pray?”\\n\\nBut she knew that it would not be ladylike to do that: so she was silent.\\n\\nLittle boys were sent out into the principal streets of Dublin early on Friday morning with bundles of handbills. Special puffs appeared in all the evening papers, reminding the music-loving public of the treat which was in store for it on the following evening. Mrs Kearney was somewhat reassured, but she thought well to tell her husband part of her suspicions. He listened carefully and said that perhaps it would be better if he went with her on Saturday night. She agreed. She respected her husband in the same way as she respected the General Post Office, as something large, secure and fixed; and though she knew the small number of his talents she appreciated his abstract value as a male. She was glad that he had suggested coming with her. She thought her plans over.\\n\\nThe night of the grand concert came. Mrs Kearney, with her husband and daughter, arrived at the Antient Concert Rooms three-quarters of an hour before the time at which the concert was to begin. By ill luck it was a rainy evening. Mrs Kearney placed her daughter’s clothes and music in charge of her husband and went all over the building looking for Mr Holohan or Mr Fitzpatrick. She could find neither. She asked the stewards was any member of the Committee in the hall and, after a great deal of trouble, a steward brought out a little woman named Miss Beirne to whom Mrs Kearney explained that she wanted to see one of the secretaries. Miss Beirne expected them any minute and asked could she do anything. Mrs Kearney looked searchingly at the oldish face which was screwed into an expression of trustfulness and enthusiasm and answered:\\n\\n“No, thank you!”\\n\\nThe little woman hoped they would have a good house. She looked out at the rain until the melancholy of the wet street effaced all the trustfulness and enthusiasm from her twisted features. Then she gave a little sigh and said:\\n\\n“Ah, well! We did our best, the dear knows.”\\n\\nMrs Kearney had to go back to the dressing-room.\\n\\nThe artistes were arriving. The bass and the second tenor had already come. The bass, Mr Duggan, was a slender young man with a scattered black moustache. He was the son of a hall porter in an office in the city and, as a boy, he had sung prolonged bass notes in the resounding hall. From this humble state he had raised himself until he had become a first-rate artiste. He had appeared in grand opera. One night, when an operatic artiste had fallen ill, he had undertaken the part of the king in the opera of Maritana at the Queen’s Theatre. He sang his music with great feeling and volume and was warmly welcomed by the gallery; but, unfortunately, he marred the good impression by wiping his nose in his gloved hand once or twice out of thoughtlessness. He was unassuming and spoke little. He said yous so softly that it passed unnoticed and he never drank anything stronger than milk for his voice’s sake. Mr Bell, the second tenor, was a fair-haired little man who competed every year for prizes at the Feis Ceoil. On his fourth trial he had been awarded a bronze medal. He was extremely nervous and extremely jealous of other tenors and he covered his nervous jealousy with an ebullient friendliness. It was his humour to have people know what an ordeal a concert was to him. Therefore when he saw Mr Duggan he went over to him and asked:\\n\\n“Are you in it too?”\\n\\n“Yes,” said Mr Duggan.\\n\\nMr Bell laughed at his fellow-sufferer, held out his hand and said:\\n\\n“Shake!”\\n\\nMrs Kearney passed by these two young men and went to the edge of the screen to view the house. The seats were being filled up rapidly and a pleasant noise circulated in the auditorium. She came back and spoke to her husband privately. Their conversation was evidently about Kathleen for they both glanced at her often as she stood chatting to one of her Nationalist friends, Miss Healy, the contralto. An unknown solitary woman with a pale face walked through the room. The women followed with keen eyes the faded blue dress which was stretched upon a meagre body. Someone said that she was Madam Glynn, the soprano.\\n\\n“I wonder where did they dig her up,” said Kathleen to Miss Healy. “I’m sure I never heard of her.”\\n\\nMiss Healy had to smile. Mr Holohan limped into the dressing-room at that moment and the two young ladies asked him who was the unknown woman. Mr Holohan said that she was Madam Glynn from London. Madam Glynn took her stand in a corner of the room, holding a roll of music stiffly before her and from time to time changing the direction of her startled gaze. The shadow took her faded dress into shelter but fell revengefully into the little cup behind her collar-bone. The noise of the hall became more audible. The first tenor and the baritone arrived together. They were both well dressed, stout and complacent and they brought a breath of opulence among the company.\\n\\nMrs Kearney brought her daughter over to them, and talked to them amiably. She wanted to be on good terms with them but, while she strove to be polite, her eyes followed Mr Holohan in his limping and devious courses. As soon as she could she excused herself and went out after him.\\n\\n“Mr Holohan, I want to speak to you for a moment,” she said.\\n\\nThey went down to a discreet part of the corridor. Mrs Kearney asked him when was her daughter going to be paid. Mr Holohan said that Mr Fitzpatrick had charge of that. Mrs Kearney said that she didn’t know anything about Mr Fitzpatrick. Her daughter had signed a contract for eight guineas and she would have to be paid. Mr Holohan said that it wasn’t his business.\\n\\n“Why isn’t it your business?” asked Mrs Kearney. “Didn’t you yourself bring her the contract? Anyway, if it’s not your business it’s my business and I mean to see to it.”\\n\\n“You’d better speak to Mr Fitzpatrick,” said Mr Holohan distantly.\\n\\n“I don’t know anything about Mr Fitzpatrick,” repeated Mrs Kearney. “I have my contract, and I intend to see that it is carried out.”\\n\\nWhen she came back to the dressing-room her cheeks were slightly suffused. The room was lively. Two men in outdoor dress had taken possession of the fireplace and were chatting familiarly with Miss Healy and the baritone. They were the Freeman man and Mr O’Madden Burke. The Freeman man had come in to say that he could not wait for the concert as he had to report the lecture which an American priest was giving in the Mansion House. He said they were to leave the report for him at the Freeman office and he would see that it went in. He was a grey-haired man, with a plausible voice and careful manners. He held an extinguished cigar in his hand and the aroma of cigar smoke floated near him. He had not intended to stay a moment because concerts and artistes bored him considerably but he remained leaning against the mantelpiece. Miss Healy stood in front of him, talking and laughing. He was old enough to suspect one reason for her politeness but young enough in spirit to turn the moment to account. The warmth, fragrance and colour of her body appealed to his senses. He was pleasantly conscious that the bosom which he saw rise and fall slowly beneath him rose and fell at that moment for him, that the laughter and fragrance and wilful glances were his tribute. When he could stay no longer he took leave of her regretfully.\\n\\n“O’Madden Burke will write the notice,” he explained to Mr Holohan, “and I’ll see it in.”\\n\\n“Thank you very much, Mr Hendrick,” said Mr Holohan, “you’ll see it in, I know. Now, won’t you have a little something before you go?”\\n\\n“I don’t mind,” said Mr Hendrick.\\n\\nThe two men went along some tortuous passages and up a dark staircase and came to a secluded room where one of the stewards was uncorking bottles for a few gentlemen. One of these gentlemen was Mr O’Madden Burke, who had found out the room by instinct. He was a suave, elderly man who balanced his imposing body, when at rest, upon a large silk umbrella. His magniloquent western name was the moral umbrella upon which he balanced the fine problem of his finances. He was widely respected.\\n\\nWhile Mr Holohan was entertaining the Freeman man Mrs Kearney was speaking so animatedly to her husband that he had to ask her to lower her voice. The conversation of the others in the dressing-room had become strained. Mr Bell, the first item, stood ready with his music but the accompanist made no sign. Evidently something was wrong. Mr Kearney looked straight before him, stroking his beard, while Mrs Kearney spoke into Kathleen’s ear with subdued emphasis. From the hall came sounds of encouragement, clapping and stamping of feet. The first tenor and the baritone and Miss Healy stood together, waiting tranquilly, but Mr Bell’s nerves were greatly agitated because he was afraid the audience would think that he had come late.\\n\\nMr Holohan and Mr O’Madden Burke came into the room. In a moment Mr Holohan perceived the hush. He went over to Mrs Kearney and spoke with her earnestly. While they were speaking the noise in the hall grew louder. Mr Holohan became very red and excited. He spoke volubly, but Mrs Kearney said curtly at intervals:\\n\\n“She won’t go on. She must get her eight guineas.”\\n\\nMr Holohan pointed desperately towards the hall where the audience was clapping and stamping. He appealed to Mr Kearney and to Kathleen. But Mr Kearney continued to stroke his beard and Kathleen looked down, moving the point of her new shoe: it was not her fault. Mrs Kearney repeated:\\n\\n“She won’t go on without her money.”\\n\\nAfter a swift struggle of tongues Mr Holohan hobbled out in haste. The room was silent. When the strain of the silence had become somewhat painful Miss Healy said to the baritone:\\n\\n“Have you seen Mrs Pat Campbell this week?”\\n\\nThe baritone had not seen her but he had been told that she was very fine. The conversation went no further. The first tenor bent his head and began to count the links of the gold chain which was extended across his waist, smiling and humming random notes to observe the effect on the frontal sinus. From time to time everyone glanced at Mrs Kearney.\\n\\nThe noise in the auditorium had risen to a clamour when Mr Fitzpatrick burst into the room, followed by Mr Holohan, who was panting. The clapping and stamping in the hall were punctuated by whistling. Mr Fitzpatrick held a few banknotes in his hand. He counted out four into Mrs Kearney’s hand and said she would get the other half at the interval. Mrs Kearney said:\\n\\n“This is four shillings short.”\\n\\nBut Kathleen gathered in her skirt and said: “Now, Mr Bell,” to the first item, who was shaking like an aspen. The singer and the accompanist went out together. The noise in hall died away. There was a pause of a few seconds: and then the piano was heard.\\n\\nThe first part of the concert was very successful except for Madam Glynn’s item. The poor lady sang Killarney in a bodiless gasping voice, with all the old-fashioned mannerisms of intonation and pronunciation which she believed lent elegance to her singing. She looked as if she had been resurrected from an old stage-wardrobe and the cheaper parts of the hall made fun of her high wailing notes. The first tenor and the contralto, however, brought down the house. Kathleen played a selection of Irish airs which was generously applauded. The first part closed with a stirring patriotic recitation delivered by a young lady who arranged amateur theatricals. It was deservedly applauded; and, when it was ended, the men went out for the interval, content.\\n\\nAll this time the dressing-room was a hive of excitement. In one corner were Mr Holohan, Mr Fitzpatrick, Miss Beirne, two of the stewards, the baritone, the bass, and Mr O’Madden Burke. Mr O’Madden Burke said it was the most scandalous exhibition he had ever witnessed. Miss Kathleen Kearney’s musical career was ended in Dublin after that, he said. The baritone was asked what did he think of Mrs Kearney’s conduct. He did not like to say anything. He had been paid his money and wished to be at peace with men. However, he said that Mrs Kearney might have taken the artistes into consideration. The stewards and the secretaries debated hotly as to what should be done when the interval came.\\n\\n“I agree with Miss Beirne,” said Mr O’Madden Burke. “Pay her nothing.”\\n\\nIn another corner of the room were Mrs Kearney and her husband, Mr Bell, Miss Healy and the young lady who had to recite the patriotic piece. Mrs Kearney said that the Committee had treated her scandalously. She had spared neither trouble nor expense and this was how she was repaid.\\n\\nThey thought they had only a girl to deal with and that, therefore, they could ride roughshod over her. But she would show them their mistake. They wouldn’t have dared to have treated her like that if she had been a man. But she would see that her daughter got her rights: she wouldn’t be fooled. If they didn’t pay her to the last farthing she would make Dublin ring. Of course she was sorry for the sake of the artistes. But what else could she do? She appealed to the second tenor who said he thought she had not been well treated. Then she appealed to Miss Healy. Miss Healy wanted to join the other group but she did not like to do so because she was a great friend of Kathleen’s and the Kearneys had often invited her to their house.\\n\\nAs soon as the first part was ended Mr Fitzpatrick and Mr Holohan went over to Mrs Kearney and told her that the other four guineas would be paid after the Committee meeting on the following Tuesday and that, in case her daughter did not play for the second part, the Committee would consider the contract broken and would pay nothing.\\n\\n“I haven’t seen any Committee,” said Mrs Kearney angrily. “My daughter has her contract. She will get four pounds eight into her hand or a foot she won’t put on that platform.”\\n\\n“I’m surprised at you, Mrs Kearney,” said Mr Holohan. “I never thought you would treat us this way.”\\n\\n“And what way did you treat me?” asked Mrs Kearney.\\n\\nHer face was inundated with an angry colour and she looked as if she would attack someone with her hands.\\n\\n“I’m asking for my rights,” she said.\\n\\n“You might have some sense of decency,” said Mr Holohan.\\n\\n“Might I, indeed?... And when I ask when my daughter is going to be paid I can’t get a civil answer.”\\n\\nShe tossed her head and assumed a haughty voice:\\n\\n“You must speak to the secretary. It’s not my business. I’m a great fellow fol-the-diddle-I-do.”\\n\\n“I thought you were a lady,” said Mr Holohan, walking away from her abruptly.\\n\\nAfter that Mrs Kearney’s conduct was condemned on all hands: everyone approved of what the Committee had done. She stood at the door, haggard with rage, arguing with her husband and daughter, gesticulating with them. She waited until it was time for the second part to begin in the hope that the secretaries would approach her. But Miss Healy had kindly consented to play one or two accompaniments. Mrs Kearney had to stand aside to allow the baritone and his accompanist to pass up to the platform. She stood still for an instant like an angry stone image and, when the first notes of the song struck her ear, she caught up her daughter’s cloak and said to her husband:\\n\\n“Get a cab!”\\n\\nHe went out at once. Mrs Kearney wrapped the cloak round her daughter and followed him. As she passed through the doorway she stopped and glared into Mr Holohan’s face.\\n\\n“I’m not done with you yet,” she said.\\n\\n“But I’m done with you,” said Mr Holohan.\\n\\nKathleen followed her mother meekly. Mr Holohan began to pace up and down the room, in order to cool himself for he felt his skin on fire.\\n\\n“That’s a nice lady!” he said. “O, she’s a nice lady!”\\n\\n“You did the proper thing, Holohan,” said Mr O’Madden Burke, poised upon his umbrella in approval.\\n'},\n",
       " {'sorrow': 'Sorrow\\n\\nTHE turner, Grigory Petrov, who had been known for years past as a splendid craftsman, and at the same time as the most senseless peasant in the Galtchinskoy district, was taking his old woman to the hospital. He had to drive over twenty miles, and it was an awful road. A government post driver could hardly have coped with it, much less an incompetent sluggard like Grigory. A cutting cold wind was blowing straight in his face. Clouds of snowflakes were whirling round and round in all directions, so that one could not tell whether the snow was falling from the sky or rising from the earth. The fields, the telegraph posts, and the forest could not be seen for the fog of snow. And when a particularly violent gust of wind swooped down on Grigory, even the yoke above the horse’s head could not be seen. The wretched, feeble little nag crawled slowly along. It took all its strength to drag its legs out of the snow and to tug with its head. The turner was in a hurry. He kept restlessly hopping up and down on the front seat and lashing the horse’s back.\\n\\n“Don’t cry, Matryona,...” he muttered. “Have a little patience. Please God we shall reach the hospital, and in a trice it will be the right thing for you.... Pavel Ivanitch will give you some little drops, or tell them to bleed you; or maybe his honor will be pleased to rub you with some sort of spirit—it’ll... draw it out of your side. Pavel Ivanitch will do his best. He will shout and stamp about, but he will do his best.... He is a nice gentleman, affable, God give him health! As soon as we get there he will dart out of his room and will begin calling me names. ‘How? Why so?’ he will cry. ‘Why did you not come at the right time? I am not a dog to be hanging about waiting on you devils all day. Why did you not come in the morning? Go away! Get out of my sight. Come again to-morrow.’ And I shall say: ‘Mr. Doctor! Pavel Ivanitch! Your honor!’ Get on, do! plague take you, you devil! Get on!”\\n\\nThe turner lashed his nag, and without looking at the old woman went on muttering to himself:\\n\\n“‘Your honor! It’s true as before God.... Here’s the Cross for you, I set off almost before it was light. How could I be here in time if the Lord.... The Mother of God... is wroth, and has sent such a snowstorm? Kindly look for yourself.... Even a first-rate horse could not do it, while mine—you can see for yourself—is not a horse but a disgrace.’ And Pavel Ivanitch will frown and shout: ‘We know you! You always find some excuse! Especially you, Grishka; I know you of old! I’ll be bound you have stopped at half a dozen taverns!’ And I shall say: ‘Your honor! am I a criminal or a heathen? My old woman is giving up her soul to God, she is dying, and am I going to run from tavern to tavern! What an idea, upon my word! Plague take them, the taverns!’ Then Pavel Ivanitch will order you to be taken into the hospital, and I shall fall at his feet.... ‘Pavel Ivanitch! Your honor, we thank you most humbly! Forgive us fools and anathemas, don’t be hard on us peasants! We deserve a good kicking, while you graciously put yourself out and mess your feet in the snow!’ And Pavel Ivanitch will give me a look as though he would like to hit me, and will say: ‘You’d much better not be swilling vodka, you fool, but taking pity on your old woman instead of falling at my feet. You want a thrashing!’ ‘You are right there—a thrashing, Pavel Ivanitch, strike me God! But how can we help bowing down at your feet if you are our benefactor, and a real father to us? Your honor! I give you my word,... here as before God,... you may spit in my face if I deceive you: as soon as my Matryona, this same here, is well again and restored to her natural condition, I’ll make anything for your honor that you would like to order! A cigarette-case, if you like, of the best birchwood,... balls for croquet, skittles of the most foreign pattern I can turn.... I will make anything for you! I won’t take a farthing from you. In Moscow they would charge you four roubles for such a cigarette-case, but I won’t take a farthing.’ The doctor will laugh and say: ‘Oh, all right, all right.... I see! But it’s a pity you are a drunkard....’ I know how to manage the gentry, old girl. There isn’t a gentleman I couldn’t talk to. Only God grant we don’t get off the road. Oh, how it is blowing! One’s eyes are full of snow.”\\n\\nAnd the turner went on muttering endlessly. He prattled on mechanically to get a little relief from his depressing feelings. He had plenty of words on his tongue, but the thoughts and questions in his brain were even more numerous. Sorrow had come upon the turner unawares, unlooked-for, and unexpected, and now he could not get over it, could not recover himself. He had lived hitherto in unruffled calm, as though in drunken half-consciousness, knowing neither grief nor joy, and now he was suddenly aware of a dreadful pain in his heart. The careless idler and drunkard found himself quite suddenly in the position of a busy man, weighed down by anxieties and haste, and even struggling with nature.\\n\\nThe turner remembered that his trouble had begun the evening before. When he had come home yesterday evening, a little drunk as usual, and from long-established habit had begun swearing and shaking his fists, his old woman had looked at her rowdy spouse as she had never looked at him before. Usually, the expression in her aged eyes was that of a martyr, meek like that of a dog frequently beaten and badly fed; this time she had looked at him sternly and immovably, as saints in the holy pictures or dying people look. From that strange, evil look in her eyes the trouble had begun. The turner, stupefied with amazement, borrowed a horse from a neighbor, and now was taking his old woman to the hospital in the hope that, by means of powders and ointments, Pavel Ivanitch would bring back his old woman’s habitual expression.\\n\\n“I say, Matryona,...” the turner muttered, “if Pavel Ivanitch asks you whether I beat you, say, ‘Never!’ and I never will beat you again. I swear it. And did I ever beat you out of spite? I just beat you without thinking. I am sorry for you. Some men wouldn’t trouble, but here I am taking you.... I am doing my best. And the way it snows, the way it snows! Thy Will be done, O Lord! God grant we don’t get off the road.... Does your side ache, Matryona, that you don’t speak? I ask you, does your side ache?”\\n\\nIt struck him as strange that the snow on his old woman’s face was not melting; it was queer that the face itself looked somehow drawn, and had turned a pale gray, dingy waxen hue and had grown grave and solemn.\\n\\n“You are a fool!” muttered the turner.... “I tell you on my conscience, before God,... and you go and... Well, you are a fool! I have a good mind not to take you to Pavel Ivanitch!”\\n\\nThe turner let the reins go and began thinking. He could not bring himself to look round at his old woman: he was frightened. He was afraid, too, of asking her a question and not getting an answer. At last, to make an end of uncertainty, without looking round he felt his old woman’s cold hand. The lifted hand fell like a log.\\n\\n“She is dead, then! What a business!”\\n\\nAnd the turner cried. He was not so much sorry as annoyed. He thought how quickly everything passes in this world! His trouble had hardly begun when the final catastrophe had happened. He had not had time to live with his old woman, to show her he was sorry for her before she died. He had lived with her for forty years, but those forty years had passed by as it were in a fog. What with drunkenness, quarreling, and poverty, there had been no feeling of life. And, as though to spite him, his old woman died at the very time when he felt he was sorry for her, that he could not live without her, and that he had behaved dreadfully badly to her.\\n\\n“Why, she used to go the round of the village,” he remembered. “I sent her out myself to beg for bread. What a business! She ought to have lived another ten years, the silly thing; as it is I’ll be bound she thinks I really was that sort of man.... Holy Mother! but where the devil am I driving? There’s no need for a doctor now, but a burial. Turn back!”\\n\\nGrigory turned back and lashed the horse with all his might. The road grew worse and worse every hour. Now he could not see the yoke at all. Now and then the sledge ran into a young fir tree, a dark object scratched the turner’s hands and flashed before his eyes, and the field of vision was white and whirling again.\\n\\n“To live over again,” thought the turner.\\n\\nHe remembered that forty years ago Matryona had been young, handsome, merry, that she had come of a well-to-do family. They had married her to him because they had been attracted by his handicraft. All the essentials for a happy life had been there, but the trouble was that, just as he had got drunk after the wedding and lay sprawling on the stove, so he had gone on without waking up till now. His wedding he remembered, but of what happened after the wedding—for the life of him he could remember nothing, except perhaps that he had drunk, lain on the stove, and quarreled. Forty years had been wasted like that.\\n\\nThe white clouds of snow were beginning little by little to turn gray. It was getting dusk.\\n\\n“Where am I going?” the turner suddenly bethought him with a start. “I ought to be thinking of the burial, and I am on the way to the hospital.... It as is though I had gone crazy.”\\n\\nGrigory turned round again, and again lashed his horse. The little nag strained its utmost and, with a snort, fell into a little trot. The turner lashed it on the back time after time.... A knocking was audible behind him, and though he did not look round, he knew it was the dead woman’s head knocking against the sledge. And the snow kept turning darker and darker, the wind grew colder and more cutting....\\n\\n“To live over again!” thought the turner. “I should get a new lathe, take orders,... give the money to my old woman....”\\n\\nAnd then he dropped the reins. He looked for them, tried to pick them up, but could not—his hands would not work....\\n\\n“It does not matter,” he thought, “the horse will go of itself, it knows the way. I might have a little sleep now.... Before the funeral or the requiem it would be as well to get a little rest....”\\n\\nThe turner closed his eyes and dozed. A little later he heard the horse stop; he opened his eyes and saw before him something dark like a hut or a haystack....\\n\\nHe would have got out of the sledge and found out what it was, but he felt overcome by such inertia that it seemed better to freeze than move, and he sank into a peaceful sleep.\\n\\nHe woke up in a big room with painted walls. Bright sunlight was streaming in at the windows. The turner saw people facing him, and his first feeling was a desire to show himself a respectable man who knew how things should be done.\\n\\n“A requiem, brothers, for my old woman,” he said. “The priest should be told....”\\n\\n“Oh, all right, all right; lie down,” a voice cut him short.\\n\\n“Pavel Ivanitch!” the turner cried in surprise, seeing the doctor before him. “Your honor, benefactor!”\\n\\nHe wanted to leap up and fall on his knees before the doctor, but felt that his arms and legs would not obey him.\\n\\n“Your honor, where are my legs, where are my arms!”\\n\\n“Say good-by to your arms and legs.... They’ve been frozen off. Come, come!... What are you crying for? You’ve lived your life, and thank God for it! I suppose you have had sixty years of it—that’s enough for you!...”\\n\\n“I am grieving.... Graciously forgive me! If I could have another five or six years!...”\\n\\n“What for?”\\n\\n“The horse isn’t mine, I must give it back.... I must bury my old woman.... How quickly it is all ended in this world! Your honor, Pavel Ivanitch! A cigarette-case of birchwood of the best! I’ll turn you croquet balls....”\\n\\nThe doctor went out of the ward with a wave of his hand. It was all over with the turner.\\n'}]"
      ]
     },
     "execution_count": 15,
     "metadata": {},
     "output_type": "execute_result"
    }
   ],
   "source": [
    "stories = load_stories(\"./data\")\n",
    "story = stories[:2]\n",
    "story\n"
   ]
  },
  {
   "cell_type": "code",
   "execution_count": 21,
   "metadata": {},
   "outputs": [],
   "source": [
    "import os\n",
    "import glob\n",
    "from dotenv import load_dotenv\n",
    "from langchain_core.prompts import PromptTemplate\n",
    "from langchain_core.output_parsers import JsonOutputParser\n",
    "from langchain_core.pydantic_v1 import BaseModel, Field\n",
    "from langchain_groq import ChatGroq\n",
    "\n",
    "# Load environment variables\n",
    "load_dotenv()\n",
    "\n",
    "\n",
    "# Define a Pydantic model for structured output\n",
    "class CharacterVerification(BaseModel):\n",
    "    \"\"\"\n",
    "    Structured model for character verification in a story\n",
    "    \"\"\"\n",
    "    character_present: int = Field(\n",
    "        description=\"1 if character exists in the story, 0 if not\",\n",
    "        ge=0,  # Greater than or equal to 0\n",
    "        le=1   # Less than or equal to 1\n",
    "    )\n",
    "\n",
    "def verify_character_in_story(story_text: str, character_name: str) -> int:\n",
    "    \"\"\"\n",
    "    Verify if a character exists in a given story using LangChain and Groq\n",
    "    \"\"\"\n",
    "    # Initialize JSON output parser\n",
    "    output_parser = JsonOutputParser(pydantic_object=CharacterVerification)\n",
    "    \n",
    "    # Create prompt template\n",
    "    prompt = PromptTemplate(\n",
    "        template=\"\"\"\n",
    "        Analyze the following story and determine if the character '{character_name}' is present.\n",
    "        \n",
    "        Story:\n",
    "        {story_text}\n",
    "        \n",
    "        {format_instructions}\n",
    "        \n",
    "        Respond with 1 if the character is in the story, 0 if not.\n",
    "        \"\"\",\n",
    "        input_variables=[\"story_text\", \"character_name\"],\n",
    "        partial_variables={\n",
    "            \"format_instructions\": output_parser.get_format_instructions()\n",
    "        }\n",
    "    )\n",
    "    \n",
    "    # Initialize Groq LLM\n",
    "    llm = ChatGroq(\n",
    "        temperature=0,  # Most precise output\n",
    "        model_name=\"llama3-8b-8192\",\n",
    "        api_key=os.getenv('GROQ_API_KEY')\n",
    "    )\n",
    "    \n",
    "    # Create the chain\n",
    "    chain = prompt | llm | output_parser\n",
    "    \n",
    "    try:\n",
    "        # Invoke the chain\n",
    "        result = chain.invoke({\n",
    "            \"story_text\": story_text, \n",
    "            \"character_name\": character_name\n",
    "        })\n",
    "        \n",
    "        # Return the verification result\n",
    "        return result.get('character_present', 0)\n",
    "    \n",
    "    except Exception as e:\n",
    "        print(f\"Error in character verification: {e}\")\n",
    "        return 0\n",
    "\n"
   ]
  },
  {
   "cell_type": "code",
   "execution_count": 30,
   "metadata": {},
   "outputs": [
    {
     "ename": "AttributeError",
     "evalue": "'list' object has no attribute 'items'",
     "output_type": "error",
     "traceback": [
      "\u001b[1;31m---------------------------------------------------------------------------\u001b[0m",
      "\u001b[1;31mAttributeError\u001b[0m                            Traceback (most recent call last)",
      "Cell \u001b[1;32mIn[30], line 3\u001b[0m\n\u001b[0;32m      1\u001b[0m stories \u001b[38;5;241m=\u001b[39m load_stories(\u001b[38;5;124m\"\u001b[39m\u001b[38;5;124m./data\u001b[39m\u001b[38;5;124m\"\u001b[39m)\n\u001b[0;32m      2\u001b[0m abc \u001b[38;5;241m=\u001b[39m \u001b[38;5;124m\"\u001b[39m\u001b[38;5;124ma-mother\u001b[39m\u001b[38;5;124m\"\u001b[39m\n\u001b[1;32m----> 3\u001b[0m \u001b[38;5;28;01mfor\u001b[39;00m title, content \u001b[38;5;129;01min\u001b[39;00m \u001b[43mstories\u001b[49m\u001b[38;5;241;43m.\u001b[39;49m\u001b[43mitems\u001b[49m():\n\u001b[0;32m      4\u001b[0m     \u001b[38;5;28mprint\u001b[39m(title)\n",
      "\u001b[1;31mAttributeError\u001b[0m: 'list' object has no attribute 'items'"
     ]
    }
   ],
   "source": [
    "stories = load_stories(\"./data\")\n",
    "abc = \"a-mother\"\n",
    "for title, content in stories.items():\n",
    "    print(title)\n"
   ]
  },
  {
   "cell_type": "code",
   "execution_count": 23,
   "metadata": {},
   "outputs": [
    {
     "ename": "KeyError",
     "evalue": "'sorrow'",
     "output_type": "error",
     "traceback": [
      "\u001b[1;31m---------------------------------------------------------------------------\u001b[0m",
      "\u001b[1;31mKeyError\u001b[0m                                  Traceback (most recent call last)",
      "Cell \u001b[1;32mIn[23], line 2\u001b[0m\n\u001b[0;32m      1\u001b[0m stories \u001b[38;5;241m=\u001b[39m load_stories(\u001b[38;5;124m\"\u001b[39m\u001b[38;5;124m./data\u001b[39m\u001b[38;5;124m\"\u001b[39m)\n\u001b[1;32m----> 2\u001b[0m story \u001b[38;5;241m=\u001b[39m \u001b[43mstories\u001b[49m\u001b[43m[\u001b[49m\u001b[38;5;241;43m0\u001b[39;49m\u001b[43m]\u001b[49m\u001b[43m[\u001b[49m\u001b[38;5;124;43m'\u001b[39;49m\u001b[38;5;124;43msorrow\u001b[39;49m\u001b[38;5;124;43m'\u001b[39;49m\u001b[43m]\u001b[49m\n\u001b[0;32m      3\u001b[0m story\n\u001b[0;32m      5\u001b[0m character \u001b[38;5;241m=\u001b[39m \u001b[38;5;124m\"\u001b[39m\u001b[38;5;124mmayur\u001b[39m\u001b[38;5;124m\"\u001b[39m\n",
      "\u001b[1;31mKeyError\u001b[0m: 'sorrow'"
     ]
    }
   ],
   "source": [
    "stories = load_stories(\"./data\")\n",
    "story = stories[0]['sorrow']\n",
    "story\n",
    "\n",
    "character = \"mayur\"\n",
    "result = verify_character_in_story(story, character)\n",
    "print(f\"Character '{character}': {result}\")"
   ]
  },
  {
   "cell_type": "code",
   "execution_count": null,
   "metadata": {},
   "outputs": [],
   "source": []
  },
  {
   "cell_type": "code",
   "execution_count": 80,
   "metadata": {},
   "outputs": [],
   "source": [
    "import os\n",
    "import json\n",
    "import glob\n",
    "from dotenv import load_dotenv\n",
    "from langchain_core.prompts import PromptTemplate\n",
    "from langchain_core.output_parsers import JsonOutputParser\n",
    "from langchain_core.pydantic_v1 import BaseModel, Field\n",
    "from langchain_groq import ChatGroq\n",
    "\n",
    "# Load environment variables\n",
    "load_dotenv()\n",
    "\n",
    "\n",
    "# Define a Pydantic model for structured character information\n",
    "class CharacterInfo(BaseModel):\n",
    "    \"\"\"\n",
    "    Structured model for character information in a story\n",
    "    \"\"\"\n",
    "    name: str = Field(description=\"Full name of the character\")\n",
    "    storyTitle: str = Field(description=\"Title of the story\")\n",
    "    summary: str = Field(description=\"Brief summary of the character's story\")\n",
    "    relations: list = Field(description=\"List of character's relationships\")\n",
    "    characterType: str = Field(description=\"Character's role in the story\")\n",
    "\n",
    "def extract_character_info(story_text: str, character_name: str) -> dict:\n",
    "    \"\"\"\n",
    "    Extract detailed information about a character from a story\n",
    "    \n",
    "    :param story_text: Full text of the story\n",
    "    :param character_name: Name of the character to extract info about\n",
    "    :return: Structured character information as a dictionary\n",
    "    \"\"\"\n",
    "    # Initialize JSON output parser\n",
    "    output_parser = JsonOutputParser(pydantic_object=CharacterInfo)\n",
    "    \n",
    "    # Create prompt template\n",
    "    prompt = PromptTemplate(\n",
    "        template=\"\"\"\n",
    "        Analyze the following story and extract comprehensive information about the character '{character_name}'.\n",
    "        \n",
    "        Story:\n",
    "        {story_text}\n",
    "        \n",
    "        {format_instructions}\n",
    "        \n",
    "        Provide a detailed JSON response with:\n",
    "        - Character's full name\n",
    "        - Story title\n",
    "        - Character's role and journey summary\n",
    "        - Relationships with other characters\n",
    "        - Character type (protagonist, antagonist, side character, etc.)\n",
    "        \n",
    "        If the character is not found, return an empty JSON object.\n",
    "        \"\"\",\n",
    "        input_variables=[\"story_text\", \"character_name\"],\n",
    "        partial_variables={\n",
    "            \"format_instructions\": output_parser.get_format_instructions()\n",
    "        }\n",
    "    )\n",
    "    \n",
    "    # Initialize Groq LLM\n",
    "    llm = ChatGroq(\n",
    "        temperature=0.7,  # Allow some creativity in summarization\n",
    "        model_name=\"llama3-8b-8192\",\n",
    "        api_key=os.getenv('GROQ_API_KEY')\n",
    "    )\n",
    "    \n",
    "    # Create the chain\n",
    "    chain = prompt | llm | output_parser\n",
    "    \n",
    "    try:\n",
    "        # Invoke the chain\n",
    "        result = chain.invoke({\n",
    "            \"story_text\": story_text, \n",
    "            \"character_name\": character_name\n",
    "        })\n",
    "        \n",
    "        return result\n",
    "    \n",
    "    except Exception as e:\n",
    "        print(f\"Error in character information extraction: {e}\")\n",
    "        return {}\n",
    "\n",
    "# def main():\n",
    "#     # Load stories from data directory\n",
    "#     stories = load_stories('./data')\n",
    "    \n",
    "#     # Characters to extract information about\n",
    "#     characters_to_extract = [\n",
    "#         \"Jon Snow\",\n",
    "#         \"Arya Stark\",\n",
    "#         \"Tyrion Lannister\"\n",
    "#     ]\n",
    "    \n",
    "#     # Extract character information across all loaded stories\n",
    "#     for story_name, story_text in stories.items():\n",
    "#         print(f\"\\n--- Story: {story_name} ---\")\n",
    "        \n",
    "#         for character in characters_to_extract:\n",
    "#             # Extract character information\n",
    "#             character_info = extract_character_info(story_text, character)\n",
    "            \n",
    "#             # Print formatted JSON output\n",
    "#             print(f\"Character: {character}\")\n",
    "#             print(json.dumps(character_info, indent=2))\n",
    "#             print(\"-\" * 50)\n",
    "\n",
    "# if __name__ == '__main__':\n",
    "#     main()"
   ]
  },
  {
   "cell_type": "code",
   "execution_count": 85,
   "metadata": {},
   "outputs": [
    {
     "name": "stdout",
     "output_type": "stream",
     "text": [
      "Character 'Eliza': {'name': 'Eliza', 'storyTitle': 'The Lantern Keepers', 'summary': 'Eliza, a young artist, becomes the keeper of the mysterious lighthouse in Bramblewick, guiding those who are lost and learning the stories of those the light has saved.', 'relations': [{'name': 'Callum', 'relationship': 'mentor'}, {'name': 'Ollie', 'relationship': 'friend'}, {'name': 'Tilly', 'relationship': 'helped'}], 'characterType': 'protagonist'}\n"
     ]
    }
   ],
   "source": [
    "stories = load_stories(\"./data\")\n",
    "story = stories[2]['content']\n",
    "story\n",
    "\n",
    "character = \"Eliza\"\n",
    "result = extract_character_info(story, character)\n",
    "print(f\"Character '{character}': {result}\")"
   ]
  },
  {
   "cell_type": "code",
   "execution_count": null,
   "metadata": {},
   "outputs": [],
   "source": []
  },
  {
   "cell_type": "markdown",
   "metadata": {},
   "source": [
    "## ChromaDB output format"
   ]
  },
  {
   "cell_type": "code",
   "execution_count": 82,
   "metadata": {},
   "outputs": [
    {
     "name": "stdout",
     "output_type": "stream",
     "text": [
      "[[None, None]]\n"
     ]
    }
   ],
   "source": [
    "# Provided dictionary\n",
    "data = {\n",
    "  'documents': [[\n",
    "      'This is a document about pineapple',\n",
    "      'This is a document about oranges'\n",
    "  ]],\n",
    "  'ids': [['id1', 'id2']],\n",
    "  'distances': [[1.0404009819030762, 1.243080496788025]],\n",
    "  'uris': None,\n",
    "  'data': None,\n",
    "  'metadatas': [[None, None]],\n",
    "  'embeddings': None,\n",
    "}\n",
    "\n",
    "# Access the 'metadatas' key\n",
    "metadatas = data['metadatas']\n",
    "\n",
    "# Print the metadatas\n",
    "print(metadatas)\n"
   ]
  },
  {
   "cell_type": "code",
   "execution_count": 83,
   "metadata": {},
   "outputs": [
    {
     "name": "stdout",
     "output_type": "stream",
     "text": [
      "Collection Name: stories\n"
     ]
    },
    {
     "ename": "AttributeError",
     "evalue": "'Collection' object has no attribute 'get_all_document_ids'",
     "output_type": "error",
     "traceback": [
      "\u001b[1;31m---------------------------------------------------------------------------\u001b[0m",
      "\u001b[1;31mAttributeError\u001b[0m                            Traceback (most recent call last)",
      "Cell \u001b[1;32mIn[83], line 40\u001b[0m\n\u001b[0;32m     37\u001b[0m         \u001b[38;5;28mprint\u001b[39m(meta)\n\u001b[0;32m     39\u001b[0m \u001b[38;5;66;03m# Example usage\u001b[39;00m\n\u001b[1;32m---> 40\u001b[0m \u001b[43mprint_collection_structure\u001b[49m\u001b[43m(\u001b[49m\u001b[43mcollection_name\u001b[49m\u001b[38;5;241;43m=\u001b[39;49m\u001b[38;5;124;43m\"\u001b[39;49m\u001b[38;5;124;43mstories\u001b[39;49m\u001b[38;5;124;43m\"\u001b[39;49m\u001b[43m,\u001b[49m\u001b[43m \u001b[49m\u001b[43mpersist_directory\u001b[49m\u001b[38;5;241;43m=\u001b[39;49m\u001b[38;5;124;43m\"\u001b[39;49m\u001b[38;5;124;43m./chroma_db\u001b[39;49m\u001b[38;5;124;43m\"\u001b[39;49m\u001b[43m)\u001b[49m\n",
      "Cell \u001b[1;32mIn[83], line 18\u001b[0m, in \u001b[0;36mprint_collection_structure\u001b[1;34m(collection_name, persist_directory)\u001b[0m\n\u001b[0;32m     15\u001b[0m \u001b[38;5;28mprint\u001b[39m(\u001b[38;5;124m\"\u001b[39m\u001b[38;5;124mCollection Name:\u001b[39m\u001b[38;5;124m\"\u001b[39m, collection_name)\n\u001b[0;32m     17\u001b[0m \u001b[38;5;66;03m# Get all document IDs in the collection\u001b[39;00m\n\u001b[1;32m---> 18\u001b[0m document_ids \u001b[38;5;241m=\u001b[39m \u001b[43mcollection\u001b[49m\u001b[38;5;241;43m.\u001b[39;49m\u001b[43mget_all_document_ids\u001b[49m()\n\u001b[0;32m     19\u001b[0m \u001b[38;5;28mprint\u001b[39m(\u001b[38;5;124m\"\u001b[39m\u001b[38;5;130;01m\\n\u001b[39;00m\u001b[38;5;124mDocument IDs:\u001b[39m\u001b[38;5;124m\"\u001b[39m, document_ids)\n\u001b[0;32m     21\u001b[0m \u001b[38;5;66;03m# Get all documents in the collection\u001b[39;00m\n",
      "\u001b[1;31mAttributeError\u001b[0m: 'Collection' object has no attribute 'get_all_document_ids'"
     ]
    }
   ],
   "source": [
    "import chromadb\n",
    "from chromadb.config import Settings\n",
    "\n",
    "def print_collection_structure(collection_name='stories', persist_directory='./chroma_db'):\n",
    "    # Initialize ChromaDB client\n",
    "    chroma_client = chromadb.PersistentClient(\n",
    "        path=persist_directory, \n",
    "        settings=Settings(anonymized_telemetry=False)\n",
    "    )\n",
    "    \n",
    "    # Get or create collection\n",
    "    collection = chroma_client.get_or_create_collection(name=collection_name)\n",
    "    \n",
    "    # Print collection details\n",
    "    print(\"Collection Name:\", collection_name)\n",
    "    \n",
    "    # Get all document IDs in the collection\n",
    "    document_ids = collection.get_all_document_ids()\n",
    "    print(\"\\nDocument IDs:\", document_ids)\n",
    "    \n",
    "    # Get all documents in the collection\n",
    "    documents = collection.get_all_documents()\n",
    "    print(\"\\nDocuments:\")\n",
    "    for doc in documents:\n",
    "        print(f\"ID: {doc['id']}, Document: {doc['document']}, Metadata: {doc['metadata']}\")\n",
    "    \n",
    "    # Get all embeddings in the collection\n",
    "    embeddings = collection.get_all_embeddings()\n",
    "    print(\"\\nEmbeddings:\")\n",
    "    for embedding in embeddings:\n",
    "        print(embedding)\n",
    "    \n",
    "    # If needed, you can also print metadata and other details\n",
    "    metadata = collection.get_all_metadata()\n",
    "    print(\"\\nMetadata:\")\n",
    "    for meta in metadata:\n",
    "        print(meta)\n",
    "\n",
    "# Example usage\n",
    "print_collection_structure(collection_name=\"stories\", persist_directory=\"./chroma_db\")\n"
   ]
  }
 ],
 "metadata": {
  "kernelspec": {
   "display_name": "venv",
   "language": "python",
   "name": "python3"
  },
  "language_info": {
   "codemirror_mode": {
    "name": "ipython",
    "version": 3
   },
   "file_extension": ".py",
   "mimetype": "text/x-python",
   "name": "python",
   "nbconvert_exporter": "python",
   "pygments_lexer": "ipython3",
   "version": "3.11.9"
  }
 },
 "nbformat": 4,
 "nbformat_minor": 2
}
